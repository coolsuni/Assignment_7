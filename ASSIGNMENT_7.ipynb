{
 "cells": [
  {
   "cell_type": "code",
   "execution_count": null,
   "id": "1a5efbb0-a9f1-4e50-9cb8-f18742e4a0a3",
   "metadata": {},
   "outputs": [],
   "source": [
    "                                             #CONSTRUCTORS\n",
    "    \n",
    "    "
   ]
  },
  {
   "cell_type": "code",
   "execution_count": 1,
   "id": "7ee2e9b3-a074-4e60-910d-86ff46b10bde",
   "metadata": {},
   "outputs": [],
   "source": [
    "#1) what is constructor and its usage and purpose\n",
    "\n"
   ]
  },
  {
   "cell_type": "code",
   "execution_count": 5,
   "id": "065a33a7-8901-411e-86fc-32c3a454a39a",
   "metadata": {},
   "outputs": [],
   "source": [
    "#Constructors are used for assigning values an object.\n",
    "#They assign values to the data members of the class when an object of class is created. \n",
    "#eg. __init__() method is a constructor\n"
   ]
  },
  {
   "cell_type": "code",
   "execution_count": 9,
   "id": "9f05add5-cd2a-4a88-a6c6-ce308b407021",
   "metadata": {},
   "outputs": [],
   "source": [
    "class area():\n",
    "    \n",
    "    def __init__(self, length, bredth):\n",
    "            self.length= length\n",
    "            self.bredth=bredth\n",
    "            \n",
    "    def rectangle_area(self):\n",
    "        return self.length*self.bredth\n",
    "    \n",
    "    "
   ]
  },
  {
   "cell_type": "code",
   "execution_count": 11,
   "id": "6dcccbfc-5568-4282-b665-434b6c86fee8",
   "metadata": {},
   "outputs": [],
   "source": [
    "sunita= area(19,10)"
   ]
  },
  {
   "cell_type": "code",
   "execution_count": 14,
   "id": "59f2b823-4559-439b-988a-49aadf5737d4",
   "metadata": {},
   "outputs": [
    {
     "name": "stdout",
     "output_type": "stream",
     "text": [
      "190\n"
     ]
    }
   ],
   "source": [
    "print(sunita.rectangle_area())"
   ]
  },
  {
   "cell_type": "code",
   "execution_count": 15,
   "id": "de87e468-a32b-44a4-96a7-215d0fde00c6",
   "metadata": {},
   "outputs": [],
   "source": [
    "#2) diffrentiate between parameterless and parametrized constructor\n",
    "\n"
   ]
  },
  {
   "cell_type": "code",
   "execution_count": 18,
   "id": "88a71ece-a0da-4842-a6f4-ebcf780d0934",
   "metadata": {},
   "outputs": [],
   "source": [
    "# parametrized constructor: first argument is self and then the user can pass any number of arguments along with it.\n",
    "\n",
    "#eg:  class sunita:\n",
    "      #def __init(__ ( self, argument1, argument2, …. argument n ):\n",
    "         \n",
    "                \n",
    "# non parametrized constructor: only accepts self keyword as argument and is used to assign default values \n",
    "                \n",
    "#eg:  class sunita:\n",
    "     # def __init__ ( self ):\n",
    "                        "
   ]
  },
  {
   "cell_type": "code",
   "execution_count": 19,
   "id": "17d3910c-6188-4311-a73a-6f2fd1d69c12",
   "metadata": {},
   "outputs": [],
   "source": [
    "#3) defining a constructor in python class.\n",
    "\n"
   ]
  },
  {
   "cell_type": "code",
   "execution_count": 41,
   "id": "0ce53a33-8a8a-4c92-89c1-0070beffd362",
   "metadata": {},
   "outputs": [],
   "source": [
    "class Person:\n",
    "    \n",
    "    def __init__(self, name, age):          # __init__() is defining a constructor that takes 3 arguments in present class\n",
    "        self.name = name\n",
    "        self.age = age\n",
    "        \n",
    "    "
   ]
  },
  {
   "cell_type": "code",
   "execution_count": 42,
   "id": "002f9303-6fb7-4ec1-9366-3e6e7538e21e",
   "metadata": {},
   "outputs": [],
   "source": [
    "sunita= Person(\"John\", 30)"
   ]
  },
  {
   "cell_type": "code",
   "execution_count": 43,
   "id": "bb63b4fc-df1c-4806-8670-cd50b23381b3",
   "metadata": {},
   "outputs": [
    {
     "data": {
      "text/plain": [
       "'John'"
      ]
     },
     "execution_count": 43,
     "metadata": {},
     "output_type": "execute_result"
    }
   ],
   "source": [
    "sunita.name"
   ]
  },
  {
   "cell_type": "code",
   "execution_count": 44,
   "id": "4f213531-d26c-4145-aff5-799477a5d2cf",
   "metadata": {},
   "outputs": [
    {
     "data": {
      "text/plain": [
       "30"
      ]
     },
     "execution_count": 44,
     "metadata": {},
     "output_type": "execute_result"
    }
   ],
   "source": [
    "sunita.age"
   ]
  },
  {
   "cell_type": "code",
   "execution_count": 45,
   "id": "18676033-c6bc-49cf-a638-eccda5c443cd",
   "metadata": {},
   "outputs": [],
   "source": [
    "#4) explain __init__ method in python and its role in constructors\n",
    "\n"
   ]
  },
  {
   "cell_type": "code",
   "execution_count": 48,
   "id": "d6f38f29-00b6-4291-af8d-f4b5a2a3327d",
   "metadata": {},
   "outputs": [],
   "source": [
    "class employee:\n",
    "    \n",
    "    def __init__(self,ID, name,salary):          #__init__ method used to take user input arguments in defining an object\n",
    "        self.name=name\n",
    "        self.id=ID\n",
    "        self.salary=salary"
   ]
  },
  {
   "cell_type": "code",
   "execution_count": 53,
   "id": "10759712-7f14-4351-b955-64e1427369cf",
   "metadata": {},
   "outputs": [],
   "source": [
    "sunita=employee(123, sunita, 20000)"
   ]
  },
  {
   "cell_type": "code",
   "execution_count": 54,
   "id": "2433999d-3c69-4fde-bbfb-93161f2ab504",
   "metadata": {},
   "outputs": [
    {
     "name": "stdout",
     "output_type": "stream",
     "text": [
      "123 <__main__.employee object at 0x7fd99020ef20> 20000\n"
     ]
    }
   ],
   "source": [
    "print(sunita.id, sunita.name, sunita.salary)"
   ]
  },
  {
   "cell_type": "code",
   "execution_count": 55,
   "id": "fd217bc1-28a0-4852-9149-04eae084c7ad",
   "metadata": {},
   "outputs": [],
   "source": [
    "#5) create a class with name person and assign name and age to this. create an object in this\n",
    "\n"
   ]
  },
  {
   "cell_type": "code",
   "execution_count": 58,
   "id": "cfb9bf92-e8d7-4c2a-993f-bbbb0f4610ef",
   "metadata": {},
   "outputs": [],
   "source": [
    "class Person:\n",
    "    \n",
    "    def __init__(self, name, age):          # __init__() is defining a constructor that takes 3 arguments in present class\n",
    "        self.name = name\n",
    "        self.age = age"
   ]
  },
  {
   "cell_type": "code",
   "execution_count": 60,
   "id": "0cda55f1-cf6d-4eb5-8cc2-137d91b0dcd0",
   "metadata": {},
   "outputs": [],
   "source": [
    "sunita=Person(sunita, 30)                  #sunita is an object of class person()"
   ]
  },
  {
   "cell_type": "code",
   "execution_count": 61,
   "id": "5686228a-92cd-4dc6-87ed-1d27c2fb9c63",
   "metadata": {},
   "outputs": [
    {
     "data": {
      "text/plain": [
       "(<__main__.employee at 0x7fd9902e7a00>, 30)"
      ]
     },
     "execution_count": 61,
     "metadata": {},
     "output_type": "execute_result"
    }
   ],
   "source": [
    "sunita.name, sunita.age"
   ]
  },
  {
   "cell_type": "code",
   "execution_count": 62,
   "id": "a34d7491-595c-40dc-bf51-c386f9d72997",
   "metadata": {},
   "outputs": [],
   "source": [
    "#6) how to call a constructor explicitly with example\n",
    "\n"
   ]
  },
  {
   "cell_type": "code",
   "execution_count": 66,
   "id": "91745676-0d5d-4845-a834-8bf7490e98bc",
   "metadata": {},
   "outputs": [],
   "source": [
    "class student():\n",
    "    \n",
    "    def __init__(self,ID, name, grades):\n",
    "        self.ID=ID\n",
    "        self.name=name\n",
    "        self.grades=grades"
   ]
  },
  {
   "cell_type": "code",
   "execution_count": 68,
   "id": "81981ac5-d586-4645-9d0e-b085de8baf52",
   "metadata": {},
   "outputs": [],
   "source": [
    "sunita=student( 123, sunita, 80)              #calling a constructor explicitly by assigning values"
   ]
  },
  {
   "cell_type": "code",
   "execution_count": 69,
   "id": "23e34921-e7fe-4aa6-85c0-6f105bfa947f",
   "metadata": {},
   "outputs": [
    {
     "name": "stdout",
     "output_type": "stream",
     "text": [
      "123 <__main__.Person object at 0x7fd990121870> 80\n"
     ]
    }
   ],
   "source": [
    "print(sunita.ID, sunita.name, sunita.grades)"
   ]
  },
  {
   "cell_type": "code",
   "execution_count": 70,
   "id": "7a74f079-8f3c-47be-8989-dd6ef2d2c7f1",
   "metadata": {},
   "outputs": [],
   "source": [
    "#7) significance of self parameter in python constructor.\n",
    "\n"
   ]
  },
  {
   "cell_type": "code",
   "execution_count": 71,
   "id": "bcc02c64-7946-4041-8099-e6d0775671b7",
   "metadata": {},
   "outputs": [],
   "source": [
    "# self parameter is used to access the attributes and methods in a class. it binds attributes of a class with given arguments."
   ]
  },
  {
   "cell_type": "code",
   "execution_count": 19,
   "id": "63773037-8239-4f0d-9110-521253b1515d",
   "metadata": {},
   "outputs": [],
   "source": [
    "class Fruits: \n",
    " \n",
    "   \n",
    "    def __init__(self):                                         # default constructor \n",
    "        self.first_fruit = \"Pineapple\" \n",
    "        self.second_fruit =\"Apple\" \n",
    "  \n",
    "    def print_fruit(self): \n",
    "        print(self.first_fruit) \n",
    "        print(self.second_fruit) \n",
    "  \n",
    "  "
   ]
  },
  {
   "cell_type": "code",
   "execution_count": 20,
   "id": "5c940d43-b5be-4c77-b417-c051e69a9fea",
   "metadata": {},
   "outputs": [],
   "source": [
    "sunita = Fruits() "
   ]
  },
  {
   "cell_type": "code",
   "execution_count": 22,
   "id": "84cf2bd1-4437-48ec-a1d9-4bcbd232a639",
   "metadata": {},
   "outputs": [
    {
     "name": "stdout",
     "output_type": "stream",
     "text": [
      "Pineapple\n",
      "Apple\n"
     ]
    }
   ],
   "source": [
    "sunita.print_fruit()"
   ]
  },
  {
   "cell_type": "code",
   "execution_count": 76,
   "id": "6d7e43ba-b54e-4bf0-be81-95dae92df632",
   "metadata": {},
   "outputs": [],
   "source": [
    "#8) default constructors in python and why are they used\n",
    "\n"
   ]
  },
  {
   "cell_type": "code",
   "execution_count": 77,
   "id": "41055921-3065-420a-b0ec-842302f9e153",
   "metadata": {},
   "outputs": [],
   "source": [
    "# The default constructor is a simple constructor which doesn’t accept any arguments.\n",
    "# It accepts only one argument which is a reference to the instance being constructed."
   ]
  },
  {
   "cell_type": "code",
   "execution_count": 23,
   "id": "9d8fb225-fe5e-4f37-953d-eb767a0b9ac4",
   "metadata": {},
   "outputs": [],
   "source": [
    "class Fruits: \n",
    " \n",
    "   \n",
    "    def __init__(self):                                         # default constructor \n",
    "        self.first_fruit = \"Pineapple\" \n",
    "        self.second_fruit =\"Apple\" \n",
    "  \n",
    "    def print_fruit(self): \n",
    "        print(self.first_fruit) \n",
    "        print(self.second_fruit) "
   ]
  },
  {
   "cell_type": "code",
   "execution_count": 26,
   "id": "d6524d25-7153-4f98-b488-5abfb0fefba5",
   "metadata": {},
   "outputs": [],
   "source": [
    "sunita=Fruits()\t\t    "
   ]
  },
  {
   "cell_type": "code",
   "execution_count": 27,
   "id": "037e9d05-8922-404e-b050-2aba23f680d1",
   "metadata": {},
   "outputs": [
    {
     "data": {
      "text/plain": [
       "<bound method Fruits.print_fruit of <__main__.Fruits object at 0x7f1ef4150760>>"
      ]
     },
     "execution_count": 27,
     "metadata": {},
     "output_type": "execute_result"
    }
   ],
   "source": [
    "sunita.print_fruit                                          "
   ]
  },
  {
   "cell_type": "code",
   "execution_count": 28,
   "id": "b7fe4c81-4a86-4e51-9323-b418b3ce32f5",
   "metadata": {},
   "outputs": [],
   "source": [
    "#9) create a class rectangle and calculate the area using length and bredth\n",
    "\n"
   ]
  },
  {
   "cell_type": "code",
   "execution_count": 29,
   "id": "548bdddd-5b52-4c60-b995-eaddd403955a",
   "metadata": {},
   "outputs": [],
   "source": [
    "class Rectangle():\n",
    "    def __init__(self, length, width):\n",
    "        self.length = length\n",
    "        self.width  = width\n",
    "\n",
    "    def rectangle_area(self):\n",
    "        return self.length*self.width\n",
    "    \n",
    "    def rectangle_perimeter(self):\n",
    "        return 2*(self.length+self.width)"
   ]
  },
  {
   "cell_type": "code",
   "execution_count": 31,
   "id": "d8af9c28-b03e-416b-b118-bebbb649c67f",
   "metadata": {},
   "outputs": [],
   "source": [
    "sunita=Rectangle(15,9)"
   ]
  },
  {
   "cell_type": "code",
   "execution_count": 32,
   "id": "d57e18ee-c7fe-4276-9b80-6d98afb597a9",
   "metadata": {},
   "outputs": [
    {
     "data": {
      "text/plain": [
       "<bound method Rectangle.rectangle_area of <__main__.Rectangle object at 0x7f1ef43744f0>>"
      ]
     },
     "execution_count": 32,
     "metadata": {},
     "output_type": "execute_result"
    }
   ],
   "source": [
    "sunita.rectangle_area"
   ]
  },
  {
   "cell_type": "code",
   "execution_count": 33,
   "id": "827250bb-92f8-4a38-a8bf-dbb4c5e8a87a",
   "metadata": {},
   "outputs": [
    {
     "data": {
      "text/plain": [
       "<bound method Rectangle.rectangle_perimeter of <__main__.Rectangle object at 0x7f1ef43744f0>>"
      ]
     },
     "execution_count": 33,
     "metadata": {},
     "output_type": "execute_result"
    }
   ],
   "source": [
    "sunita.rectangle_perimeter"
   ]
  },
  {
   "cell_type": "code",
   "execution_count": 34,
   "id": "a0f9c7c1-3b63-4773-b253-3aa30eed0363",
   "metadata": {},
   "outputs": [],
   "source": [
    "#10) to have multiple constructors in python class\n",
    "\n"
   ]
  },
  {
   "cell_type": "code",
   "execution_count": 35,
   "id": "2d4fbacd-b4ab-4772-8bb3-a2c0954f4f33",
   "metadata": {},
   "outputs": [],
   "source": [
    "class human():\n",
    "    \n",
    "    def __init__(self):\n",
    "        pass\n",
    "    \n",
    "    def eat(self):\n",
    "        pass\n",
    "    \n",
    "class male(human):\n",
    "    def __init__(self,name):\n",
    "        self.name=name\n",
    "        \n",
    "    def eat(self):\n",
    "        super().eat\n",
    "        print(self.name)"
   ]
  },
  {
   "cell_type": "code",
   "execution_count": 36,
   "id": "157aa35c-ab54-453c-a649-23792eddc0e6",
   "metadata": {},
   "outputs": [],
   "source": [
    "shikha= male(\"sunita\")"
   ]
  },
  {
   "cell_type": "code",
   "execution_count": 37,
   "id": "7e4e78fe-943b-4b44-a540-e2fb6c81a379",
   "metadata": {},
   "outputs": [
    {
     "name": "stdout",
     "output_type": "stream",
     "text": [
      "sunita\n"
     ]
    }
   ],
   "source": [
    "shikha.eat()"
   ]
  },
  {
   "cell_type": "code",
   "execution_count": 38,
   "id": "5dfa0845-d4c4-44b3-aa83-26a39973dcc8",
   "metadata": {},
   "outputs": [],
   "source": [
    "#11) method overloading and how is it related to constructors\n",
    "\n"
   ]
  },
  {
   "cell_type": "code",
   "execution_count": 10,
   "id": "4e38cc85-5522-458d-b995-7851443bdda4",
   "metadata": {},
   "outputs": [],
   "source": [
    "class data:\n",
    "\n",
    "        def __init__(self,number_of_class,number_of_student):\n",
    "            self.number_of_class= number_of_class\n",
    "            self.number_of_student= number_of_student\n",
    "            \n",
    "        def __add__(self,other):                                    # method overloading\n",
    "            return data(self.number_of_class+ other.number_of_class,self.number_of_student+other.number_of_student)"
   ]
  },
  {
   "cell_type": "code",
   "execution_count": 12,
   "id": "c5811856-e8f2-4817-bef2-4def12d896e2",
   "metadata": {},
   "outputs": [],
   "source": [
    "c1= data(2,10)"
   ]
  },
  {
   "cell_type": "code",
   "execution_count": 13,
   "id": "e46afbc7-9359-42e0-991d-21650a3b950a",
   "metadata": {},
   "outputs": [],
   "source": [
    "c2=data(3,15)"
   ]
  },
  {
   "cell_type": "code",
   "execution_count": 14,
   "id": "53050d80-d9c9-4ac1-85dd-04f6521852d4",
   "metadata": {},
   "outputs": [],
   "source": [
    "result= c1+c2"
   ]
  },
  {
   "cell_type": "code",
   "execution_count": 15,
   "id": "b0417f73-e067-4948-aa00-3655b05e31dc",
   "metadata": {},
   "outputs": [
    {
     "name": "stdout",
     "output_type": "stream",
     "text": [
      "5 25\n"
     ]
    }
   ],
   "source": [
    "print(result.number_of_class,result.number_of_student)"
   ]
  },
  {
   "cell_type": "code",
   "execution_count": 16,
   "id": "d46d6998-383d-4a70-99a8-8e54e8be4144",
   "metadata": {},
   "outputs": [],
   "source": [
    "#12) explain the use of super() in python constructors with example\n",
    "\n"
   ]
  },
  {
   "cell_type": "code",
   "execution_count": 17,
   "id": "f04a9e18-42f6-4af3-841b-fbdacc2f50b8",
   "metadata": {},
   "outputs": [],
   "source": [
    "# the super() is used to give access to the methods and properties of the parent class or sibling class\n",
    "# it returns an object that represents a parent class\n",
    "#it is used with __init__ keyword to initialize the keywords of parent class"
   ]
  },
  {
   "cell_type": "code",
   "execution_count": 21,
   "id": "06fed96f-4157-4fd7-91ae-d89e6396edec",
   "metadata": {},
   "outputs": [],
   "source": [
    " class pwskills:\n",
    "        \n",
    "        def __init__(self,mentor):\n",
    "            self.mentor=mentor\n",
    "            \n",
    "        def mentor_name(self):\n",
    "            print(self.mentor)\n",
    "            \n",
    "class data(pwskills):\n",
    "        def __init__(self,mentor,mentor_mail):\n",
    "            super().__init__(mentor)             # super() accesses the attributes of parent class pwskills\n",
    "            self.mentor=mentor\n",
    "            self.mentor_mail=mentor_mail\n",
    "            \n",
    "        def show_info(self):\n",
    "            print(self.mentor,self.mentor_mail)"
   ]
  },
  {
   "cell_type": "code",
   "execution_count": 22,
   "id": "3a87975b-c776-4a99-9971-26aab2efe381",
   "metadata": {},
   "outputs": [],
   "source": [
    "sunita=data(\"shikha\",\"shikha@gmail.com\")"
   ]
  },
  {
   "cell_type": "code",
   "execution_count": 23,
   "id": "5c0bb412-e29c-4805-a4b7-cb2363772e11",
   "metadata": {},
   "outputs": [
    {
     "name": "stdout",
     "output_type": "stream",
     "text": [
      "shikha shikha@gmail.com\n",
      "shikha\n"
     ]
    }
   ],
   "source": [
    "sunita.show_info()\n",
    "sunita.mentor_name()"
   ]
  },
  {
   "cell_type": "code",
   "execution_count": 24,
   "id": "57137337-8fae-4a7e-a43c-6293914bee58",
   "metadata": {},
   "outputs": [],
   "source": [
    "#13)Create a class`Book` with  `title`, `author`, and `published_year`, to display book details\n",
    "\n"
   ]
  },
  {
   "cell_type": "code",
   "execution_count": 4,
   "id": "4f7899dc-8fc7-4baf-927e-49d2f0a100ff",
   "metadata": {},
   "outputs": [],
   "source": [
    "class book:\n",
    "    \n",
    "    def __init__(self,title,author,published_year):\n",
    "        self.title=title\n",
    "        self.author=author\n",
    "        self.published_year=published_year\n",
    "        \n",
    "    def display_details(self):\n",
    "        print(self.title,self.author,self.published_year)\n",
    "        \n",
    "        "
   ]
  },
  {
   "cell_type": "code",
   "execution_count": 5,
   "id": "64a188b4-605c-4455-a746-28886a9e0137",
   "metadata": {},
   "outputs": [],
   "source": [
    "sunita=book(\"The kite runner\",\" Khaled Hosseini\",\" 2014\")"
   ]
  },
  {
   "cell_type": "code",
   "execution_count": 6,
   "id": "44ae19c1-fe70-458c-8aec-3e8e39f1e0fe",
   "metadata": {},
   "outputs": [
    {
     "name": "stdout",
     "output_type": "stream",
     "text": [
      "The kite runner  Khaled Hosseini  2014\n"
     ]
    }
   ],
   "source": [
    "sunita.display_details()"
   ]
  },
  {
   "cell_type": "code",
   "execution_count": 7,
   "id": "f464462a-f444-4224-8541-05f99740bd37",
   "metadata": {},
   "outputs": [],
   "source": [
    "#14) Create a class called `Student` with a constructor that takes a list of subjects and initializes the `subjects` attribute.\n",
    "\n"
   ]
  },
  {
   "cell_type": "code",
   "execution_count": 15,
   "id": "0ad4752f-3af5-46fc-b063-283361bc15d7",
   "metadata": {},
   "outputs": [],
   "source": [
    "class student:\n",
    "    \n",
    "    def __init__(self,student,subjects):\n",
    "        self.student=student\n",
    "        self.subjects=subjects\n",
    "        \n",
    "    def display(self):\n",
    "        print(\"the student\",self.student,\"studies subjects:\",self.subjects)\n",
    "        \n",
    "        "
   ]
  },
  {
   "cell_type": "code",
   "execution_count": 18,
   "id": "df36db92-1f0a-49f4-bbbd-bdcd14597afa",
   "metadata": {},
   "outputs": [],
   "source": [
    "sunita=student(\"Shikha\",\"maths,science,history,geography,economy\")"
   ]
  },
  {
   "cell_type": "code",
   "execution_count": 19,
   "id": "b16ac990-30ed-4fcb-93b5-f4c3fa9b8c9d",
   "metadata": {},
   "outputs": [
    {
     "name": "stdout",
     "output_type": "stream",
     "text": [
      "the student Shikha studies subjects: maths,science,history,geography,economy\n"
     ]
    }
   ],
   "source": [
    "sunita.display()"
   ]
  },
  {
   "cell_type": "code",
   "execution_count": 20,
   "id": "891d594f-c03b-46db-8f76-bd99d1adf00f",
   "metadata": {},
   "outputs": [],
   "source": [
    "#15)  What is the purpose of the `__del__` method in Python classes, and how does it relate to constructors?\n",
    "\n"
   ]
  },
  {
   "cell_type": "code",
   "execution_count": 21,
   "id": "df32b06b-b8ce-4778-bacc-b482d0f5d517",
   "metadata": {},
   "outputs": [],
   "source": [
    "# while to implement a constructor, we use __init()__ ,to implement a destructor, we use __del()__ in python."
   ]
  },
  {
   "cell_type": "code",
   "execution_count": 22,
   "id": "96b4c36c-9503-48b8-825c-482c7164bca8",
   "metadata": {},
   "outputs": [],
   "source": [
    "class fileopen:\n",
    "    \n",
    "    def __init__(self,filename):\n",
    "        self.filename=filename\n",
    "        \n",
    "    def open_file(self):\n",
    "        print(\"this will open my file\",self.filename)\n",
    "        \n",
    "    def __del__(self):\n",
    "        print(\"close my file\")"
   ]
  },
  {
   "cell_type": "code",
   "execution_count": 25,
   "id": "5a89841d-0f31-4edc-ae3f-08198aa56b4d",
   "metadata": {},
   "outputs": [],
   "source": [
    "f1=fileopen(\"f1.text\")"
   ]
  },
  {
   "cell_type": "code",
   "execution_count": 26,
   "id": "99676bd4-c6d4-4142-92f8-9d734a45a8c2",
   "metadata": {},
   "outputs": [
    {
     "data": {
      "text/plain": [
       "<bound method fileopen.open_file of <__main__.fileopen object at 0x7ff30007a740>>"
      ]
     },
     "execution_count": 26,
     "metadata": {},
     "output_type": "execute_result"
    }
   ],
   "source": [
    "f1.open_file"
   ]
  },
  {
   "cell_type": "code",
   "execution_count": 27,
   "id": "707cdced-80e9-41e1-8a34-b12d83c20a57",
   "metadata": {},
   "outputs": [],
   "source": [
    "#16) Create a  class called `Car` with a default constructor `make` and `model` attributes.display car information.\n",
    "\n"
   ]
  },
  {
   "cell_type": "code",
   "execution_count": 28,
   "id": "4e9245cc-071c-4072-9e00-a53e0f91967a",
   "metadata": {},
   "outputs": [],
   "source": [
    "class Car:\n",
    "    \n",
    "    \n",
    "    def __init__(self, make, model, year):\n",
    "        self.make = make\n",
    "        self.model = model\n",
    "        self.year = year\n",
    "        \n",
    "    def display_car_details(self):\n",
    "        print(\"Make:\", self.make)\n",
    "        print(\"Model:\", self.model)\n",
    "        print(\"Year:\", self.year)"
   ]
  },
  {
   "cell_type": "code",
   "execution_count": 29,
   "id": "0c4068fb-69e9-4e0f-b16f-5de0b739b76f",
   "metadata": {},
   "outputs": [],
   "source": [
    "c= Car(\"Honda\", \"Civic\", 2020)"
   ]
  },
  {
   "cell_type": "code",
   "execution_count": 31,
   "id": "3ef601f0-94f5-4929-8300-d6ba841c60ce",
   "metadata": {},
   "outputs": [
    {
     "name": "stdout",
     "output_type": "stream",
     "text": [
      "Make: Honda\n",
      "Model: Civic\n",
      "Year: 2020\n"
     ]
    }
   ],
   "source": [
    "c.display_car_details()"
   ]
  },
  {
   "cell_type": "code",
   "execution_count": 32,
   "id": "6fd213fe-de6b-4a0c-84a5-1b283f93509f",
   "metadata": {},
   "outputs": [],
   "source": [
    "                                             # INHERITANCE\n",
    "    \n",
    "    "
   ]
  },
  {
   "cell_type": "code",
   "execution_count": 33,
   "id": "e42ae1d7-659d-46b2-88d8-4178d9f13e4b",
   "metadata": {},
   "outputs": [],
   "source": [
    "#1) What is inheritance in Python? Explain its significance in object-oriented programming\n",
    "\n"
   ]
  },
  {
   "cell_type": "code",
   "execution_count": 39,
   "id": "32137d98-c720-44b4-b45a-de5c7084f660",
   "metadata": {},
   "outputs": [],
   "source": [
    "#  Inheritance is where one class inherits the attributes and methods of another class.\n",
    "# The class whose properties and methods are inherited is known as the Parent class. \n",
    "# And the class that inherits the properties from the parent class is the Child class.\n",
    "# it helps in reusability of objects and saves time.\n",
    "\n",
    "\n",
    "class a:\n",
    "    \n",
    "    def test(self):\n",
    "        print(\"this is a part of class a\")\n",
    "        \n",
    "class b(a):                  # inheritence of attributes of class a by class b\n",
    "    pass\n",
    "\n",
    "    "
   ]
  },
  {
   "cell_type": "code",
   "execution_count": 40,
   "id": "1c3648e2-2a86-4fa7-889f-ea221ee77b51",
   "metadata": {},
   "outputs": [],
   "source": [
    "obj_a=a()"
   ]
  },
  {
   "cell_type": "code",
   "execution_count": 41,
   "id": "465e4948-4a6b-4658-9b95-c3a7e588a201",
   "metadata": {},
   "outputs": [
    {
     "name": "stdout",
     "output_type": "stream",
     "text": [
      "this is a part of class a\n"
     ]
    }
   ],
   "source": [
    "obj_a.test()"
   ]
  },
  {
   "cell_type": "code",
   "execution_count": 42,
   "id": "69c3b506-f9d3-41d1-a711-2289e38e8b07",
   "metadata": {},
   "outputs": [],
   "source": [
    "obj_b=b()"
   ]
  },
  {
   "cell_type": "code",
   "execution_count": 43,
   "id": "463f9dd6-308b-4037-8b55-6f36ab359b5b",
   "metadata": {},
   "outputs": [
    {
     "name": "stdout",
     "output_type": "stream",
     "text": [
      "this is a part of class a\n"
     ]
    }
   ],
   "source": [
    "obj_b.test()"
   ]
  },
  {
   "cell_type": "code",
   "execution_count": 44,
   "id": "0e0ec6f3-ab3e-47d4-a300-d453eb7fa546",
   "metadata": {},
   "outputs": [],
   "source": [
    "#2) Differentiate between single inheritance and multiple inheritance in Python. Provide examples for each.\n",
    "\n"
   ]
  },
  {
   "cell_type": "code",
   "execution_count": 47,
   "id": "37708e2a-849a-4c9a-90fb-878fa8665b16",
   "metadata": {},
   "outputs": [],
   "source": [
    "# single inheritence\n",
    "\n",
    "class Country:\n",
    "\n",
    "     def ShowCountry(self):\n",
    "\n",
    "        print(\"This is Spain\")\n",
    "\n",
    "class State(Country):\n",
    "\n",
    "     def ShowState(self):\n",
    "\n",
    "        print(\"This is State\")"
   ]
  },
  {
   "cell_type": "code",
   "execution_count": 49,
   "id": "cd72710f-96f8-4d6a-9eba-bc72d6a41c41",
   "metadata": {},
   "outputs": [],
   "source": [
    "st =State()"
   ]
  },
  {
   "cell_type": "code",
   "execution_count": 50,
   "id": "d0db1af7-8047-42ba-a755-d615ea4c2a8c",
   "metadata": {},
   "outputs": [
    {
     "name": "stdout",
     "output_type": "stream",
     "text": [
      "This is Spain\n"
     ]
    }
   ],
   "source": [
    "st.ShowCountry()"
   ]
  },
  {
   "cell_type": "code",
   "execution_count": 51,
   "id": "e88849d4-0a68-414d-ab9e-45e2ddcc76dc",
   "metadata": {},
   "outputs": [
    {
     "name": "stdout",
     "output_type": "stream",
     "text": [
      "This is State\n"
     ]
    }
   ],
   "source": [
    "st.ShowState()"
   ]
  },
  {
   "cell_type": "code",
   "execution_count": 52,
   "id": "e1bc1f78-1903-4ea9-ab6e-7b4b7d32edca",
   "metadata": {},
   "outputs": [],
   "source": [
    "# multiple inheritence\n",
    "\n",
    "class Animal:  \n",
    "\n",
    "    def speak(self):  \n",
    "\n",
    "        print(\"Animal Speaking\")  \n",
    "\n",
    "        \n",
    "class Dog(Animal):  \n",
    "\n",
    "    def bark(self):  \n",
    "\n",
    "        print(\"dog barking\")  \n",
    "\n",
    "class DogChild(Dog):  \n",
    "\n",
    "    def eat(self):  \n",
    "\n",
    "        print(\"Eating bread\")  "
   ]
  },
  {
   "cell_type": "code",
   "execution_count": 53,
   "id": "0c756b4f-e452-4984-a2b9-107a6bb18c5b",
   "metadata": {},
   "outputs": [],
   "source": [
    "d = DogChild()  "
   ]
  },
  {
   "cell_type": "code",
   "execution_count": 54,
   "id": "1ae0a7aa-ed15-4e5a-b379-72048927d589",
   "metadata": {},
   "outputs": [
    {
     "name": "stdout",
     "output_type": "stream",
     "text": [
      "dog barking\n"
     ]
    }
   ],
   "source": [
    "d.bark()  "
   ]
  },
  {
   "cell_type": "code",
   "execution_count": 55,
   "id": "75244fe8-8212-42ee-b662-41e6d1ecb420",
   "metadata": {},
   "outputs": [
    {
     "name": "stdout",
     "output_type": "stream",
     "text": [
      "Animal Speaking\n"
     ]
    }
   ],
   "source": [
    "d.speak() "
   ]
  },
  {
   "cell_type": "code",
   "execution_count": 56,
   "id": "5cadf150-d6e8-4ceb-a04a-50162e5c3a84",
   "metadata": {},
   "outputs": [
    {
     "name": "stdout",
     "output_type": "stream",
     "text": [
      "Eating bread\n"
     ]
    }
   ],
   "source": [
    "d.eat() "
   ]
  },
  {
   "cell_type": "code",
   "execution_count": 57,
   "id": "67bacf7f-11b8-4645-be39-020600281c2d",
   "metadata": {},
   "outputs": [],
   "source": [
    "#3) Create class called `Vehicle` with attributes `color` and `speed`. create a child class called `Car` that inherits from `Vehicle` and adds a `brand` attribute. Provide an example of creating a `Car` object\n",
    "\n"
   ]
  },
  {
   "cell_type": "code",
   "execution_count": 58,
   "id": "8bf65515-bf2e-4bd0-9278-6a78f23aca2b",
   "metadata": {},
   "outputs": [],
   "source": [
    "class vehicle:\n",
    "    \n",
    "    def color(self):\n",
    "        print(\"the colour of my car is black\")\n",
    "        \n",
    "    def speed(self):\n",
    "        print(\"the speed of my car is 100mph\")\n",
    "        \n",
    "class car(vehicle):\n",
    "    \n",
    "     def brand(self):\n",
    "            print(\"my car is rolls royce\")\n",
    "    \n",
    "    \n",
    "        "
   ]
  },
  {
   "cell_type": "code",
   "execution_count": 59,
   "id": "1d10788d-db53-4763-82c9-fcdf4236c0d8",
   "metadata": {},
   "outputs": [],
   "source": [
    "sunita=car()"
   ]
  },
  {
   "cell_type": "code",
   "execution_count": 60,
   "id": "6ca829d6-9fe3-4e2e-a079-3fa1d4e5fdae",
   "metadata": {},
   "outputs": [
    {
     "name": "stdout",
     "output_type": "stream",
     "text": [
      "my car is rolls royce\n"
     ]
    }
   ],
   "source": [
    "sunita.brand()"
   ]
  },
  {
   "cell_type": "code",
   "execution_count": 61,
   "id": "c7ee7733-1071-4260-9fd3-99211d094683",
   "metadata": {},
   "outputs": [
    {
     "name": "stdout",
     "output_type": "stream",
     "text": [
      "the colour of my car is black\n"
     ]
    }
   ],
   "source": [
    "sunita.color()"
   ]
  },
  {
   "cell_type": "code",
   "execution_count": 62,
   "id": "c11dd637-ff67-4aa2-9a1c-36f8faec4cfc",
   "metadata": {},
   "outputs": [
    {
     "name": "stdout",
     "output_type": "stream",
     "text": [
      "the speed of my car is 100mph\n"
     ]
    }
   ],
   "source": [
    "sunita.speed()"
   ]
  },
  {
   "cell_type": "code",
   "execution_count": 63,
   "id": "adfa2ba1-ec66-40bb-82e5-42878b0e7c10",
   "metadata": {},
   "outputs": [],
   "source": [
    "#4) Explain the concept of method overriding in inheritance. Provide a practical example.\n",
    "\n"
   ]
  },
  {
   "cell_type": "code",
   "execution_count": 64,
   "id": "8066fa47-7c7d-4926-9167-23d6d3fb2cf6",
   "metadata": {},
   "outputs": [],
   "source": [
    "# Method overriding is where the subclass or child class can provide the program with specific characteristics of data \n",
    "#provided that are already defined in the parent class or superclass.\n",
    "\n",
    "\n",
    "class pwskills:\n",
    "    \n",
    "    def student(self):\n",
    "        pass\n",
    "    \n",
    "class data_science(pwskills):\n",
    "    def student(self):\n",
    "        print(\"details about data science\")\n",
    "        \n",
    "class big_data(pwskills):\n",
    "    def student(self):\n",
    "        print(\"details about big data\")"
   ]
  },
  {
   "cell_type": "code",
   "execution_count": 65,
   "id": "61b37aba-b7fb-4f0c-88e3-52a61c6cae51",
   "metadata": {},
   "outputs": [],
   "source": [
    "sunita=data_science()"
   ]
  },
  {
   "cell_type": "code",
   "execution_count": 66,
   "id": "d721bdef-3847-4902-a1f9-fd0079ccc96c",
   "metadata": {},
   "outputs": [
    {
     "name": "stdout",
     "output_type": "stream",
     "text": [
      "details about data science\n"
     ]
    }
   ],
   "source": [
    "sunita.student()"
   ]
  },
  {
   "cell_type": "code",
   "execution_count": 67,
   "id": "d50f5688-c9cb-40d1-aa0a-e0bae3793ce0",
   "metadata": {},
   "outputs": [],
   "source": [
    "sunita=big_data()"
   ]
  },
  {
   "cell_type": "code",
   "execution_count": 68,
   "id": "a74e05f4-56ca-45f0-85fc-0ec561158ebe",
   "metadata": {},
   "outputs": [
    {
     "name": "stdout",
     "output_type": "stream",
     "text": [
      "details about big data\n"
     ]
    }
   ],
   "source": [
    "sunita.student()"
   ]
  },
  {
   "cell_type": "code",
   "execution_count": 69,
   "id": "8524b342-2d1f-4b1d-bf34-4946fe8289f6",
   "metadata": {},
   "outputs": [],
   "source": [
    "#5) How can you access the methods and attributes of a parent class from a child class in Python? Give an example.\n",
    "\n"
   ]
  },
  {
   "cell_type": "code",
   "execution_count": 70,
   "id": "86879baa-1bb2-4530-bf20-81f06db00094",
   "metadata": {},
   "outputs": [],
   "source": [
    "class vehicle:\n",
    "    \n",
    "    def color(self):\n",
    "        print(\"the colour of my car is black\")\n",
    "        \n",
    "    def speed(self):\n",
    "        print(\"the speed of my car is 100mph\")\n",
    "        \n",
    "class car(vehicle):                 # accessing the attributes of parent class vehicle from child class car\n",
    "    \n",
    "     def brand(self):\n",
    "            print(\"my car is rolls royce\")\n",
    "    "
   ]
  },
  {
   "cell_type": "code",
   "execution_count": 71,
   "id": "46045d80-ef83-4bb9-9aba-b810ae844726",
   "metadata": {},
   "outputs": [],
   "source": [
    "sunita=car()"
   ]
  },
  {
   "cell_type": "code",
   "execution_count": 72,
   "id": "7e4d46a9-7f1d-46fd-9e23-5fa51511a350",
   "metadata": {},
   "outputs": [
    {
     "name": "stdout",
     "output_type": "stream",
     "text": [
      "my car is rolls royce\n"
     ]
    }
   ],
   "source": [
    "sunita.brand()"
   ]
  },
  {
   "cell_type": "code",
   "execution_count": 73,
   "id": "25268a78-1eeb-4cb8-876d-d56e42e90192",
   "metadata": {},
   "outputs": [],
   "source": [
    "#6) Discuss the use of the `super()` function in Python inheritance. When and why is it used? Provide an example\n",
    "\n"
   ]
  },
  {
   "cell_type": "code",
   "execution_count": 74,
   "id": "1822ca91-4cb7-4c24-b8d6-4f037d1f9385",
   "metadata": {},
   "outputs": [],
   "source": [
    "# the super() is used to give access to the methods and properties of the parent class or sibling class\n",
    "# it returns an object that represents a parent class\n",
    "#it is used with __init__ keyword to initialize the keywords of parent class"
   ]
  },
  {
   "cell_type": "code",
   "execution_count": 75,
   "id": "c5468726-3f52-408e-9a57-1bde5c3555b5",
   "metadata": {},
   "outputs": [],
   "source": [
    "class pwskills:\n",
    "        \n",
    "        def __init__(self,mentor):\n",
    "            self.mentor=mentor\n",
    "            \n",
    "        def mentor_name(self):\n",
    "            print(self.mentor)\n",
    "            \n",
    "class data(pwskills):\n",
    "        def __init__(self,mentor,mentor_mail):\n",
    "            super().__init__(mentor)             # super() accesses the attributes of parent class pwskills\n",
    "            self.mentor=mentor\n",
    "            self.mentor_mail=mentor_mail\n",
    "            \n",
    "        def show_info(self):\n",
    "            print(self.mentor,self.mentor_mail)"
   ]
  },
  {
   "cell_type": "code",
   "execution_count": 76,
   "id": "64a90423-b2ac-44d3-9f53-5e4821774c80",
   "metadata": {},
   "outputs": [],
   "source": [
    "sunita=data(\"shikha\",\"shikha@gmail.com\")"
   ]
  },
  {
   "cell_type": "code",
   "execution_count": 77,
   "id": "e099bc76-5ae5-451b-8255-aea57fba73c5",
   "metadata": {},
   "outputs": [
    {
     "name": "stdout",
     "output_type": "stream",
     "text": [
      "shikha shikha@gmail.com\n"
     ]
    }
   ],
   "source": [
    "sunita.show_info()"
   ]
  },
  {
   "cell_type": "code",
   "execution_count": 78,
   "id": "604eecca-7c0b-42f6-8824-607921ab4db2",
   "metadata": {},
   "outputs": [],
   "source": [
    "#7) Create a class `Animal` with a method `speak()`. Then, create child classes `Dog` and `Cat` that inherit from `Animal` and override the `speak()` method. Provide an example of using these classes.\n",
    "\n"
   ]
  },
  {
   "cell_type": "code",
   "execution_count": 79,
   "id": "4deb2522-27ae-40d9-8a88-5e962ccaefc7",
   "metadata": {},
   "outputs": [],
   "source": [
    "class animal:\n",
    "    \n",
    "    def speak(self):\n",
    "        print(\"this animal makes difeerent noises\")\n",
    "        \n",
    "class dog(animal):\n",
    "    def speak(self):\n",
    "        print(\"this animal moohs\")\n",
    "        \n",
    "class cat(animal):\n",
    "    def speak(self):\n",
    "        print(\"this animal meows\")\n",
    "    \n",
    "    "
   ]
  },
  {
   "cell_type": "code",
   "execution_count": 80,
   "id": "11b72e6d-b030-4874-8a0c-1c5a7369169e",
   "metadata": {},
   "outputs": [],
   "source": [
    "a=animal()"
   ]
  },
  {
   "cell_type": "code",
   "execution_count": 82,
   "id": "11c9cef3-d054-4b75-ad23-afaaff8ad337",
   "metadata": {},
   "outputs": [
    {
     "name": "stdout",
     "output_type": "stream",
     "text": [
      "this animal makes difeerent noises\n"
     ]
    }
   ],
   "source": [
    "a.speak()"
   ]
  },
  {
   "cell_type": "code",
   "execution_count": 84,
   "id": "b7ccaf11-a618-464a-8f22-93c5e217240b",
   "metadata": {},
   "outputs": [],
   "source": [
    "b=dog()"
   ]
  },
  {
   "cell_type": "code",
   "execution_count": 85,
   "id": "b527eed9-ea6c-47af-91f9-5d85062e397e",
   "metadata": {},
   "outputs": [
    {
     "name": "stdout",
     "output_type": "stream",
     "text": [
      "this animal moohs\n"
     ]
    }
   ],
   "source": [
    "b.speak()"
   ]
  },
  {
   "cell_type": "code",
   "execution_count": 86,
   "id": "0cd7cd46-b1f6-4c20-99ad-5f0baa99997d",
   "metadata": {},
   "outputs": [],
   "source": [
    "c=cat()"
   ]
  },
  {
   "cell_type": "code",
   "execution_count": 87,
   "id": "6a5fa46d-65d8-45ad-b63b-235b236325bc",
   "metadata": {},
   "outputs": [
    {
     "name": "stdout",
     "output_type": "stream",
     "text": [
      "this animal meows\n"
     ]
    }
   ],
   "source": [
    "c.speak()"
   ]
  },
  {
   "cell_type": "code",
   "execution_count": 88,
   "id": "ab9e0d2b-b6aa-4d94-b9ed-934036536df3",
   "metadata": {},
   "outputs": [],
   "source": [
    "#8) Explain the role of the `isinstance()` function in Python and how it relates to inheritance.\n",
    "\n"
   ]
  },
  {
   "cell_type": "code",
   "execution_count": 89,
   "id": "255009fc-a464-4513-87b7-a3c7d031adbe",
   "metadata": {},
   "outputs": [],
   "source": [
    "# The isinstance() function returns True if the specified object is of the specified type, \n",
    "# otherwise False . \n",
    "#If the type parameter is a tuple, this function will return True if the object is one of the types in the tuple"
   ]
  },
  {
   "cell_type": "code",
   "execution_count": 89,
   "id": "ef2c6bb6-09cb-4003-9c15-5f63ca449771",
   "metadata": {},
   "outputs": [],
   "source": [
    "class myObj:\n",
    "     name = \"John\""
   ]
  },
  {
   "cell_type": "code",
   "execution_count": 90,
   "id": "ccd38573-b73a-415e-9da3-08089ebea27e",
   "metadata": {},
   "outputs": [],
   "source": [
    "y = myObj()"
   ]
  },
  {
   "cell_type": "code",
   "execution_count": 91,
   "id": "43eaeb78-c63e-4a6b-b2e9-8cf8ef196df3",
   "metadata": {},
   "outputs": [],
   "source": [
    "x = isinstance(y, myObj)"
   ]
  },
  {
   "cell_type": "code",
   "execution_count": 92,
   "id": "6d41555f-f8f9-4a94-b956-392387031b89",
   "metadata": {},
   "outputs": [
    {
     "name": "stdout",
     "output_type": "stream",
     "text": [
      "True\n"
     ]
    }
   ],
   "source": [
    "print(x)"
   ]
  },
  {
   "cell_type": "code",
   "execution_count": 93,
   "id": "53820f02-d714-4eb7-a3f5-2382bd7711f1",
   "metadata": {},
   "outputs": [],
   "source": [
    "#9) What is the purpose of the `issubclass()` function in Python? Provide an example\n",
    "\n"
   ]
  },
  {
   "cell_type": "code",
   "execution_count": 94,
   "id": "eaa7d2ed-3669-4326-a197-348dee513fba",
   "metadata": {},
   "outputs": [],
   "source": [
    "# The issubclass() function returns True if the specified object is a subclass of the specified object, otherwise False."
   ]
  },
  {
   "cell_type": "code",
   "execution_count": 95,
   "id": "9ce971ed-2926-4e38-a670-5013fdc8d5ad",
   "metadata": {},
   "outputs": [],
   "source": [
    "class myAge:\n",
    "    age = 36\n",
    "\n",
    "class myObj(myAge):\n",
    "    name = \"John\"\n",
    "    age = myAge"
   ]
  },
  {
   "cell_type": "code",
   "execution_count": 96,
   "id": "95acc912-bd94-476d-be8a-32c918f94a0a",
   "metadata": {},
   "outputs": [],
   "source": [
    "x = issubclass(myObj, myAge)"
   ]
  },
  {
   "cell_type": "code",
   "execution_count": 97,
   "id": "0eb44532-bea9-4fc8-90db-00e9ea21e5d9",
   "metadata": {},
   "outputs": [
    {
     "name": "stdout",
     "output_type": "stream",
     "text": [
      "True\n"
     ]
    }
   ],
   "source": [
    "print(x)"
   ]
  },
  {
   "cell_type": "code",
   "execution_count": 98,
   "id": "557e2d26-7ca5-4026-8b55-e898fbe4e896",
   "metadata": {},
   "outputs": [],
   "source": [
    "#10) Create a class called `Shape` with a method `area()` that calculates the area of a shape. Then, create child classes `Circle` and `Rectangle` that inherit from `Shape` and implement the `area()` method accordingly. Provide an example.\n",
    "\n"
   ]
  },
  {
   "cell_type": "code",
   "execution_count": 101,
   "id": "4187a00d-60a9-4967-9d91-cda1db9517fc",
   "metadata": {},
   "outputs": [],
   "source": [
    "import math\n",
    "\n",
    "class Shape:\n",
    "    def calculate_area(self):\n",
    "        pass\n",
    "\n",
    "class Circle(Shape):\n",
    "    def __init__(self, radius):\n",
    "        self.radius = radius\n",
    "\n",
    "    def calculate_area(self):\n",
    "        return math.pi * self.radius**2\n",
    "\n",
    "class Rectangle(Shape):\n",
    "    def __init__(self, length, width):\n",
    "        self.length = length\n",
    "        self.width = width\n",
    "\n",
    "    def calculate_area(self):\n",
    "        return self.length * self.width"
   ]
  },
  {
   "cell_type": "code",
   "execution_count": 102,
   "id": "0b2e9ad9-6698-4771-ac64-d8f33cf48837",
   "metadata": {},
   "outputs": [],
   "source": [
    "r = 7"
   ]
  },
  {
   "cell_type": "code",
   "execution_count": 103,
   "id": "0fc132ea-c2b5-41d9-a6f5-0c3b24996d14",
   "metadata": {},
   "outputs": [],
   "source": [
    "circle = Circle(r)"
   ]
  },
  {
   "cell_type": "code",
   "execution_count": 106,
   "id": "e18e7ec1-3299-4104-99fc-da5e4cbaf9de",
   "metadata": {},
   "outputs": [],
   "source": [
    "circle_area = circle.calculate_area()"
   ]
  },
  {
   "cell_type": "code",
   "execution_count": 108,
   "id": "6096fe67-0c2c-4cb5-8ac2-a0016d48badd",
   "metadata": {},
   "outputs": [
    {
     "name": "stdout",
     "output_type": "stream",
     "text": [
      "Radius of the circle: 7\n",
      "Circle Area: 153.93804002589985\n"
     ]
    }
   ],
   "source": [
    "print(\"Radius of the circle:\",r)\n",
    "print(\"Circle Area:\", circle_area)"
   ]
  },
  {
   "cell_type": "code",
   "execution_count": 109,
   "id": "9208b706-70d1-4bb7-bf4a-f9e13550f452",
   "metadata": {},
   "outputs": [],
   "source": [
    "l = 5\n",
    "w = 7"
   ]
  },
  {
   "cell_type": "code",
   "execution_count": 110,
   "id": "669a6fd1-b321-403a-9f11-101ab111c17d",
   "metadata": {},
   "outputs": [],
   "source": [
    "rectangle = Rectangle(l, w)"
   ]
  },
  {
   "cell_type": "code",
   "execution_count": 111,
   "id": "73489239-12d3-4758-8a4d-a8098520be1f",
   "metadata": {},
   "outputs": [],
   "source": [
    "rectangle_area = rectangle.calculate_area()"
   ]
  },
  {
   "cell_type": "code",
   "execution_count": 112,
   "id": "948c26e7-0210-4e89-8d1f-79d5cae788fa",
   "metadata": {},
   "outputs": [
    {
     "name": "stdout",
     "output_type": "stream",
     "text": [
      "\n",
      "Rectangle: Length = 5  Width = 7\n",
      "Rectangle Area: 35\n"
     ]
    }
   ],
   "source": [
    "print(\"\\nRectangle: Length =\",l,\" Width =\",w)\n",
    "print(\"Rectangle Area:\", rectangle_area)\n"
   ]
  },
  {
   "cell_type": "code",
   "execution_count": 113,
   "id": "ca82f03b-253f-492b-904c-527d99b46926",
   "metadata": {},
   "outputs": [],
   "source": [
    "#14) Create class called `Employee` with attributes `name` and `salary`. Then, create a child class `Manager` that inherits from `Employee` and adds an attribute `department`. Provide an example.\n",
    "\n"
   ]
  },
  {
   "cell_type": "code",
   "execution_count": 40,
   "id": "2130e6ea-c23b-4d51-9fad-aba943f2d417",
   "metadata": {},
   "outputs": [],
   "source": [
    "class employee:\n",
    "    \n",
    "    def __init__(self,name ,salary):\n",
    "        self.name=name\n",
    "        self.salary=salary\n",
    "        print(\"the employee\",self.name,\"has a salary of\",self.salary)\n",
    "        \n",
    "class manager(employee):\n",
    "    \n",
    "    def __init__(self,department):\n",
    "        self.department=department     \n",
    "          \n",
    "    def display(self):    \n",
    "        print(\"the employee works in department\",self.department)"
   ]
  },
  {
   "cell_type": "code",
   "execution_count": 41,
   "id": "1d66641e-9451-4690-a1a8-b690a1eb4b67",
   "metadata": {},
   "outputs": [
    {
     "name": "stdout",
     "output_type": "stream",
     "text": [
      "the employee sunita has a salary of 30000\n"
     ]
    }
   ],
   "source": [
    "sunita=employee(\"sunita\", \"30000\")"
   ]
  },
  {
   "cell_type": "code",
   "execution_count": 42,
   "id": "b741838c-04dd-4aba-bb35-815cff35ad0d",
   "metadata": {},
   "outputs": [],
   "source": [
    "shikha=manager(\"human resources\")"
   ]
  },
  {
   "cell_type": "code",
   "execution_count": 43,
   "id": "ec20a923-6b98-4f13-a557-e3d1e162bc6a",
   "metadata": {},
   "outputs": [
    {
     "name": "stdout",
     "output_type": "stream",
     "text": [
      "the employee works in department human resources\n"
     ]
    }
   ],
   "source": [
    "shikha.display()"
   ]
  },
  {
   "cell_type": "code",
   "execution_count": null,
   "id": "c8d5bc16-4ff3-4f90-8d60-da014a40ee77",
   "metadata": {},
   "outputs": [],
   "source": [
    "#15) Discuss the concept of method overloading in Python inheritance. How does it differ from method overriding?"
   ]
  },
  {
   "cell_type": "code",
   "execution_count": 45,
   "id": "db94e4a0-8484-4d66-b498-a236ca32bdb0",
   "metadata": {},
   "outputs": [],
   "source": [
    "# Method Overloading is an example of Compile time polymorphism.\n",
    "# In this, more than one method of the same class shares the same method name having different signatures.\n",
    "#Method overloading is used to add more to the behavior of methods \n",
    "\n",
    "\n",
    "class data:\n",
    "\n",
    "        def __init__(self,number_of_class,number_of_student):\n",
    "            self.number_of_class= number_of_class\n",
    "            self.number_of_student= number_of_student\n",
    "            \n",
    "        def __add__(self,other):                                    # method overloading\n",
    "            return data(self.number_of_class+ other.number_of_class,self.number_of_student+other.number_of_student)"
   ]
  },
  {
   "cell_type": "code",
   "execution_count": 46,
   "id": "057a1847-986f-441f-90cc-0c1038abebbc",
   "metadata": {},
   "outputs": [],
   "source": [
    "c1= data(2,10)"
   ]
  },
  {
   "cell_type": "code",
   "execution_count": 47,
   "id": "b91272b3-0d6b-44c7-8349-d5270be74c9d",
   "metadata": {},
   "outputs": [],
   "source": [
    "c2= data(3,15)"
   ]
  },
  {
   "cell_type": "code",
   "execution_count": 48,
   "id": "d5a3a352-191d-4bc5-924a-90cf33577c5a",
   "metadata": {},
   "outputs": [],
   "source": [
    "result= c1+c2"
   ]
  },
  {
   "cell_type": "code",
   "execution_count": 50,
   "id": "2e8a267f-b948-4271-8366-88d60d505299",
   "metadata": {},
   "outputs": [
    {
     "data": {
      "text/plain": [
       "<__main__.data at 0x7ff0e476ece0>"
      ]
     },
     "execution_count": 50,
     "metadata": {},
     "output_type": "execute_result"
    }
   ],
   "source": [
    "result"
   ]
  },
  {
   "cell_type": "code",
   "execution_count": 51,
   "id": "d3875b4b-38aa-480f-af00-44ed14ac1ac3",
   "metadata": {},
   "outputs": [],
   "source": [
    "# Method overriding is an example of run time polymorphism. \n",
    "# In this, the specific implementation of the method that is already provided by the parent class is provided by the child class. \n",
    "#It is used to change the behavior of existing methods \n",
    "\n",
    "\n",
    "class pwskills:\n",
    "    \n",
    "    def student(self):\n",
    "        pass\n",
    "    \n",
    "class data_science(pwskills):\n",
    "    def student(self):\n",
    "        print(\"details about data science\")\n",
    "        \n",
    "class big_data(pwskills):\n",
    "    def student(self):\n",
    "        print(\"details about big data\")"
   ]
  },
  {
   "cell_type": "code",
   "execution_count": 52,
   "id": "ddb7aa75-ef7e-4707-8f15-1ff3f60db9b2",
   "metadata": {},
   "outputs": [],
   "source": [
    "sunita=data_science()"
   ]
  },
  {
   "cell_type": "code",
   "execution_count": 53,
   "id": "405577b3-f30a-4d87-b117-9893508e6053",
   "metadata": {},
   "outputs": [
    {
     "name": "stdout",
     "output_type": "stream",
     "text": [
      "details about data science\n"
     ]
    }
   ],
   "source": [
    "sunita.student()"
   ]
  },
  {
   "cell_type": "code",
   "execution_count": 54,
   "id": "b20af990-d683-4fb6-a58f-046b126edd19",
   "metadata": {},
   "outputs": [],
   "source": [
    "#16) Explain the purpose of the `__init__()` method in Python inheritance and how it is utilized in child classes\n",
    "\n"
   ]
  },
  {
   "cell_type": "code",
   "execution_count": 59,
   "id": "83332afe-11e3-4571-a546-dd93febd7206",
   "metadata": {},
   "outputs": [],
   "source": [
    "class employee:\n",
    "    \n",
    "    def __init__(self,ID, name,salary):          #__init__ method used to take user input arguments in defining an object\n",
    "        self.name=name\n",
    "        self.id=ID\n",
    "        self.salary=salary"
   ]
  },
  {
   "cell_type": "code",
   "execution_count": 60,
   "id": "fb37c551-46cd-486b-b997-9560289bb4bb",
   "metadata": {},
   "outputs": [],
   "source": [
    "sunita=employee(123,sunita,30000)"
   ]
  },
  {
   "cell_type": "code",
   "execution_count": 62,
   "id": "b2526292-9278-467d-bd98-84c04e0a1593",
   "metadata": {},
   "outputs": [
    {
     "name": "stdout",
     "output_type": "stream",
     "text": [
      "<__main__.employee object at 0x7ff0e476fee0> 123 30000\n"
     ]
    }
   ],
   "source": [
    "print(sunita.name,sunita.id,sunita.salary)"
   ]
  },
  {
   "cell_type": "code",
   "execution_count": 1,
   "id": "23538f11-de4e-47bc-8930-0918822ef9a5",
   "metadata": {},
   "outputs": [],
   "source": [
    "#17) Create a class called `Bird` with a method `fly()`.create child classes `Eagle` and `Sparrow` that inherit from `Bird` and implement the `fly()` method differently. Provide an example of using these classes.\n",
    "\n"
   ]
  },
  {
   "cell_type": "code",
   "execution_count": 2,
   "id": "3539dc56-339d-4260-982e-bbadacd9bc8c",
   "metadata": {},
   "outputs": [],
   "source": [
    "class bird:\n",
    "    \n",
    "    def fly(self):\n",
    "        print(\"every bird fies differently\")\n",
    "        \n",
    "class eagle(bird):\n",
    "    \n",
    "    def fly(self):\n",
    "        print(\"an eagle always fies above the clouds\")\n",
    "        \n",
    "class sparrow(bird):\n",
    "    \n",
    "    def fly(bird):\n",
    "        print(\"a sparrow hides itself during storm\")"
   ]
  },
  {
   "cell_type": "code",
   "execution_count": 4,
   "id": "310964e6-b7f5-4e97-8af0-70928215a757",
   "metadata": {},
   "outputs": [],
   "source": [
    "sunita= bird()"
   ]
  },
  {
   "cell_type": "code",
   "execution_count": 5,
   "id": "50884f73-93b6-4df3-9fc4-8c05105b3838",
   "metadata": {},
   "outputs": [
    {
     "name": "stdout",
     "output_type": "stream",
     "text": [
      "every bird fies differently\n"
     ]
    }
   ],
   "source": [
    "sunita.fly()"
   ]
  },
  {
   "cell_type": "code",
   "execution_count": 6,
   "id": "0f090559-aabc-4ce2-a4fc-7aa366baa5e0",
   "metadata": {},
   "outputs": [],
   "source": [
    "b=eagle()"
   ]
  },
  {
   "cell_type": "code",
   "execution_count": 7,
   "id": "184d801d-1a41-4127-bf76-41dfd6dc0cac",
   "metadata": {},
   "outputs": [
    {
     "name": "stdout",
     "output_type": "stream",
     "text": [
      "an eagle always fies above the clouds\n"
     ]
    }
   ],
   "source": [
    "b.fly()"
   ]
  },
  {
   "cell_type": "code",
   "execution_count": 8,
   "id": "952f1fc5-6428-4c55-9db2-aa33254f9839",
   "metadata": {},
   "outputs": [],
   "source": [
    "c=sparrow()"
   ]
  },
  {
   "cell_type": "code",
   "execution_count": 9,
   "id": "09152556-1b97-4166-8fae-691de1967186",
   "metadata": {},
   "outputs": [
    {
     "name": "stdout",
     "output_type": "stream",
     "text": [
      "a sparrow hides itself during storm\n"
     ]
    }
   ],
   "source": [
    "c.fly()"
   ]
  },
  {
   "cell_type": "code",
   "execution_count": 10,
   "id": "bcff2c49-96c5-4dc8-9f3c-996795cf8c34",
   "metadata": {},
   "outputs": [],
   "source": [
    "#18) Create a Python class hierarchy for a university system. Start with a base class `Person` and create child classes `Student` and `Professor`, each with their own attributes and methods. Provide an example of using these classes in a university context.\n",
    "\n"
   ]
  },
  {
   "cell_type": "code",
   "execution_count": 20,
   "id": "4f478ff9-3677-489f-adab-5f259fbe719e",
   "metadata": {},
   "outputs": [],
   "source": [
    "class person:\n",
    "    \n",
    "    def university(self):\n",
    "        pass\n",
    "           \n",
    "        \n",
    "class student(person):\n",
    "    \n",
    "    def __init__(self,name, title, subject,university):\n",
    "        self.name=name\n",
    "        self.title=title\n",
    "        self.subject=subject\n",
    "        self.university=university\n",
    "    \n",
    "    def display(self):\n",
    "        print(self.name,self.title,self.subject,self.university)\n",
    "        \n",
    "class professor(person):\n",
    "    \n",
    "     def __init__(self,name, title, subject,university):\n",
    "        self.name=name\n",
    "        self.title=title\n",
    "        self.subject=subject\n",
    "        self.university=university\n",
    "    \n",
    "     def display(self):\n",
    "        print(self.name,self.title,self.subject,self.university)"
   ]
  },
  {
   "cell_type": "code",
   "execution_count": 21,
   "id": "5a897be3-e430-4c91-88c2-ad26996029af",
   "metadata": {},
   "outputs": [],
   "source": [
    "sunita=person()"
   ]
  },
  {
   "cell_type": "code",
   "execution_count": 22,
   "id": "c74ae69c-a179-4a1f-a6aa-5cd2b46c1050",
   "metadata": {},
   "outputs": [],
   "source": [
    "a=student(\"shikha\",\"student\",\"economics\",\"CALTECH\")"
   ]
  },
  {
   "cell_type": "code",
   "execution_count": 23,
   "id": "7aebe075-bb25-4b6c-be04-38929e911f7a",
   "metadata": {},
   "outputs": [
    {
     "name": "stdout",
     "output_type": "stream",
     "text": [
      "shikha student economics CALTECH\n"
     ]
    }
   ],
   "source": [
    "a.display()"
   ]
  },
  {
   "cell_type": "code",
   "execution_count": 24,
   "id": "2860a182-69b0-41d1-a3cb-436231bea264",
   "metadata": {},
   "outputs": [],
   "source": [
    "b=professor(\"Dr. vikas\",\"professor\",\"economics\",\"CALTECH\")"
   ]
  },
  {
   "cell_type": "code",
   "execution_count": 25,
   "id": "6df0316e-fb2f-42b4-a0be-b60eaea9f21c",
   "metadata": {},
   "outputs": [
    {
     "name": "stdout",
     "output_type": "stream",
     "text": [
      "Dr. vikas professor economics CALTECH\n"
     ]
    }
   ],
   "source": [
    "b.display()"
   ]
  },
  {
   "cell_type": "code",
   "execution_count": 26,
   "id": "4bb73ddf-10a2-4e83-9a96-0d98802cfc46",
   "metadata": {},
   "outputs": [],
   "source": [
    "                                        # ENCAPSULATION\n",
    "    \n",
    "    "
   ]
  },
  {
   "cell_type": "code",
   "execution_count": 27,
   "id": "d91422f1-30b4-4c7d-93a8-c4dbf5dd6255",
   "metadata": {},
   "outputs": [],
   "source": [
    "#1) Explain the concept of encapsulation in Python. What is its role in object-oriented programming?\n",
    "\n"
   ]
  },
  {
   "cell_type": "code",
   "execution_count": 39,
   "id": "0b128982-f4d5-43a1-9279-160f579f505b",
   "metadata": {},
   "outputs": [],
   "source": [
    "# Encapsulation describes the idea of wrapping data and the methods that work on data within one unit. \n",
    "# This puts restrictions on accessing variables and methods directly and can prevent the accidental modification of data. \n",
    "# To prevent accidental change, an object’s variable can only be changed by an object’s method. \n",
    "# Those types of variables are known as private variables.\n",
    "\n",
    "# A class is an example of encapsulation as it encapsulates all the data that is member functions, variables, etc.\n",
    "# The goal of information hiding is to ensure that an object’s state is always valid by controlling access to attributes.\n",
    "\n",
    "\n",
    "class bank:\n",
    "    \n",
    "    def __init__(self,acc_no,balance):\n",
    "        self.acc_no=acc_no\n",
    "        self.__balance=balance                         # encapsulated data denoted by \"__\" means private variable\n",
    "        \n",
    "    def check_balance(self,password):\n",
    "        if password==\"rahul\":\n",
    "            return self.__balance\n",
    "        else:\n",
    "            return \"incorrect password\""
   ]
  },
  {
   "cell_type": "code",
   "execution_count": 40,
   "id": "030e299c-d33b-4bfb-98dd-e8a0bef4e8cd",
   "metadata": {},
   "outputs": [],
   "source": [
    "sunita= bank(\"1234\",\"54321\")"
   ]
  },
  {
   "cell_type": "code",
   "execution_count": 42,
   "id": "94a35066-583c-4b51-a680-f0e339588754",
   "metadata": {},
   "outputs": [
    {
     "data": {
      "text/plain": [
       "'54321'"
      ]
     },
     "execution_count": 42,
     "metadata": {},
     "output_type": "execute_result"
    }
   ],
   "source": [
    "sunita.check_balance(\"rahul\")"
   ]
  },
  {
   "cell_type": "code",
   "execution_count": 43,
   "id": "941fb11d-b2a9-462e-8af9-70a41b160266",
   "metadata": {},
   "outputs": [],
   "source": [
    "#3) How can you achieve encapsulation in Python classes? Provide an example.\n",
    "\n"
   ]
  },
  {
   "cell_type": "code",
   "execution_count": 44,
   "id": "eabd2636-8f74-4fd7-92a3-994c7f233ab5",
   "metadata": {},
   "outputs": [],
   "source": [
    "class bank:\n",
    "    \n",
    "    def __init__(self,acc_no,balance):\n",
    "        self.acc_no=acc_no\n",
    "        self.__balance=balance                         # encapsulated data denoted by \"__\" means private variable\n",
    "        \n",
    "    def check_balance(self,password):\n",
    "        if password==\"rahul\":\n",
    "            return self.__balance\n",
    "        else:\n",
    "            return \"incorrect password\""
   ]
  },
  {
   "cell_type": "code",
   "execution_count": 45,
   "id": "7be226ec-22be-43d5-ac91-48b5fb4138ca",
   "metadata": {},
   "outputs": [],
   "source": [
    "sunita= bank(\"1234\",\"54321\")"
   ]
  },
  {
   "cell_type": "code",
   "execution_count": 47,
   "id": "f33ab75d-3bbc-41fe-aa2e-38885f47d09d",
   "metadata": {},
   "outputs": [
    {
     "data": {
      "text/plain": [
       "'incorrect password'"
      ]
     },
     "execution_count": 47,
     "metadata": {},
     "output_type": "execute_result"
    }
   ],
   "source": [
    "sunita.check_balance(\"shikha\")"
   ]
  },
  {
   "cell_type": "code",
   "execution_count": 48,
   "id": "a991eb7e-56e6-4487-b3a2-441db3f5c6cd",
   "metadata": {},
   "outputs": [],
   "source": [
    "#4) Discuss the difference between public, private, and protected access modifiers in Python.\n",
    "\n"
   ]
  },
  {
   "cell_type": "code",
   "execution_count": 49,
   "id": "25cab677-03db-458f-b4d0-ee6c348a419a",
   "metadata": {},
   "outputs": [],
   "source": [
    "# private access variable- denoted by \"__\"\n",
    "# protected access variable- denoted by \"_\"\n",
    "# public access variable- open access"
   ]
  },
  {
   "cell_type": "code",
   "execution_count": 50,
   "id": "96718176-1b49-4122-b1ac-ac4b4c89f51f",
   "metadata": {},
   "outputs": [],
   "source": [
    "#5) Create class called `Person` with a private attribute `__name`. Provide methods to get and set the name attribute.\n",
    "\n"
   ]
  },
  {
   "cell_type": "code",
   "execution_count": 28,
   "id": "41e55a8e-0a25-4aaa-82f6-e5e6b336913f",
   "metadata": {},
   "outputs": [],
   "source": [
    "class person:\n",
    "    \n",
    "    def __init__(self,name,aadhar):\n",
    "        self.__name=name\n",
    "        self.aadhar=aadhar\n",
    "        \n",
    "    def get_name(self):                       # getter() method\n",
    "        print(self.__name)\n",
    "        \n",
    "    def set_name(self,x):                     #setter method\n",
    "        self.__name=x\n",
    "        \n",
    "    def display(self):\n",
    "        print(self.name, self.aadhar)"
   ]
  },
  {
   "cell_type": "code",
   "execution_count": 29,
   "id": "9be625a0-de84-4b07-a75d-3a4fd8b87576",
   "metadata": {},
   "outputs": [],
   "source": [
    "sunita=person(\"shikha\",\"987654321\")"
   ]
  },
  {
   "cell_type": "code",
   "execution_count": 32,
   "id": "f150b68d-74fb-4653-b0e0-5e45f0fe0808",
   "metadata": {},
   "outputs": [
    {
     "name": "stdout",
     "output_type": "stream",
     "text": [
      "shikha\n",
      "None\n"
     ]
    }
   ],
   "source": [
    "print(sunita.get_name())"
   ]
  },
  {
   "cell_type": "code",
   "execution_count": 35,
   "id": "415b4f6a-91e2-49df-915f-f25e9f9f345e",
   "metadata": {},
   "outputs": [],
   "source": [
    "sunita.set_name(\"simranjeet\")"
   ]
  },
  {
   "cell_type": "code",
   "execution_count": 36,
   "id": "b0f56275-2abb-4d7a-8030-ed948466fb37",
   "metadata": {},
   "outputs": [
    {
     "name": "stdout",
     "output_type": "stream",
     "text": [
      "simranjeet\n",
      "None\n"
     ]
    }
   ],
   "source": [
    "print(sunita.get_name())"
   ]
  },
  {
   "cell_type": "code",
   "execution_count": 33,
   "id": "742447ab-fc67-4790-abba-82e1e14ff7df",
   "metadata": {},
   "outputs": [],
   "source": [
    "#6) Explain the purpose of getter and setter methods in encapsulation. Provide examples.\n",
    "\n"
   ]
  },
  {
   "cell_type": "code",
   "execution_count": 37,
   "id": "ba1ca364-ec21-455f-943b-92b70316742a",
   "metadata": {},
   "outputs": [],
   "source": [
    "# Getters are OOPs functions in python. Getters are functions used to retrieve the values of private attributes,\n",
    "# while setters are functions used to modify or assign values to private attributes.\n",
    "\n",
    "#In Python, since private variables cannot be accessed directly, \n",
    "#the getter method provides a way to retrieve them from outside the class, thereby helping in data encapsulation.\n",
    "#The getter method typically allows read-only access to the properties of an object. \n",
    "#Getters are named with a ‘get_’ prefix followed by the attribute name whose value is to be accesse\n",
    "\n",
    "\n",
    "class person:\n",
    "    \n",
    "    def __init__(self,name,aadhar):\n",
    "        self.__name=name\n",
    "        self.aadhar=aadhar\n",
    "        \n",
    "    def get_name(self):                       # getter() method\n",
    "        print(self.__name)\n",
    "        \n",
    "    def set_name(self,x):                     #setter method\n",
    "        self.__name=x\n",
    "        \n",
    "    def display(self):\n",
    "        print(self.name, self.aadhar)"
   ]
  },
  {
   "cell_type": "code",
   "execution_count": 38,
   "id": "40963edf-e587-4fc5-b323-6cfe7aa4c31b",
   "metadata": {},
   "outputs": [],
   "source": [
    "sunita=person(\"shikha\",\"987654321\")"
   ]
  },
  {
   "cell_type": "code",
   "execution_count": 39,
   "id": "6c6ff861-9df3-4825-934f-c2fbaba0314d",
   "metadata": {},
   "outputs": [
    {
     "name": "stdout",
     "output_type": "stream",
     "text": [
      "shikha\n",
      "None\n"
     ]
    }
   ],
   "source": [
    "print(sunita.get_name())"
   ]
  },
  {
   "cell_type": "code",
   "execution_count": 40,
   "id": "590e74c3-9491-4b0d-be76-780b261a2622",
   "metadata": {},
   "outputs": [],
   "source": [
    "sunita.set_name(\"simranjeet\")"
   ]
  },
  {
   "cell_type": "code",
   "execution_count": 41,
   "id": "0f554ac2-05ff-4c22-a20b-b217d15641c3",
   "metadata": {},
   "outputs": [
    {
     "name": "stdout",
     "output_type": "stream",
     "text": [
      "simranjeet\n",
      "None\n"
     ]
    }
   ],
   "source": [
    "print(sunita.get_name())"
   ]
  },
  {
   "cell_type": "code",
   "execution_count": 42,
   "id": "99d9b906-923d-429c-a8b1-2514f6025e4a",
   "metadata": {},
   "outputs": [],
   "source": [
    "#7) Create a Python class called `BankAccount` with private attributes for the account balance (`__balance`) and account number (`__account_number`). Provide methods for depositing and withdrawing money.\n",
    "\n"
   ]
  },
  {
   "cell_type": "code",
   "execution_count": 56,
   "id": "6a02eb4c-286e-4f46-9137-5a035b4fdaa8",
   "metadata": {},
   "outputs": [],
   "source": [
    "class bank:\n",
    "    \n",
    "    def __init__(self,acc_no,balance):\n",
    "        self.__acc_no=acc_no\n",
    "        self.__balance=balance                         # encapsulated data denoted by \"__\" means private variable\n",
    "        \n",
    "    def check_balance(self,password):\n",
    "        if password==\"rahul\":\n",
    "            return self.__balance\n",
    "        else:\n",
    "            return \"incorrect password\"\n",
    "        \n",
    "    def deposit(self,amount):\n",
    "        print(\"i am trying to deposit in account Rs\",amount)\n",
    "        \n",
    "    def withdraw(self,amt_with):\n",
    "        print(\"withdraw the amount Rs\", amt_with)"
   ]
  },
  {
   "cell_type": "code",
   "execution_count": 57,
   "id": "f848dd8e-5ce0-47dd-91e9-1e0c497b9f9f",
   "metadata": {},
   "outputs": [],
   "source": [
    "sunita=bank(1234,50000)"
   ]
  },
  {
   "cell_type": "code",
   "execution_count": 58,
   "id": "78628f08-75b1-4b54-9016-51b4441ec30b",
   "metadata": {},
   "outputs": [
    {
     "data": {
      "text/plain": [
       "50000"
      ]
     },
     "execution_count": 58,
     "metadata": {},
     "output_type": "execute_result"
    }
   ],
   "source": [
    "sunita.check_balance(\"rahul\")"
   ]
  },
  {
   "cell_type": "code",
   "execution_count": 59,
   "id": "e4f584fe-3fcb-43b7-a66a-ced9d73376c8",
   "metadata": {},
   "outputs": [
    {
     "name": "stdout",
     "output_type": "stream",
     "text": [
      "i am trying to deposit in account Rs 20000\n"
     ]
    }
   ],
   "source": [
    "sunita.deposit(20000)"
   ]
  },
  {
   "cell_type": "code",
   "execution_count": 60,
   "id": "732c3fed-9875-41b8-a033-da554b3607b3",
   "metadata": {},
   "outputs": [
    {
     "name": "stdout",
     "output_type": "stream",
     "text": [
      "withdraw the amount Rs 1000\n"
     ]
    }
   ],
   "source": [
    "sunita.withdraw(1000)"
   ]
  },
  {
   "cell_type": "code",
   "execution_count": 1,
   "id": "68081683-9f09-454e-b4ea-bfe57407b68f",
   "metadata": {},
   "outputs": [],
   "source": [
    "#9) Create a Python class hierarchy for a school system, including classes for students, teachers, and courses, and implement encapsulation principles to protect sensitive information.\n",
    "\n"
   ]
  },
  {
   "cell_type": "code",
   "execution_count": 25,
   "id": "b1e4c4d3-2492-4221-befa-091531044129",
   "metadata": {},
   "outputs": [],
   "source": [
    "class school:\n",
    "    \n",
    "    def __init__(self,rollno, marks):\n",
    "        self.rollno=rollno\n",
    "        self.__marks=marks                        #private attribute\n",
    "        print(self.rollno, self.marks)\n",
    "        \n",
    "    def  teachers(self, name,subject,mobile):\n",
    "        self.name=name\n",
    "        self.subject=sebject\n",
    "        self.__mobile=mobile                      #private attribute\n",
    "        print(self.name,self.subject,self.mobile)\n",
    "        \n",
    "    def courses(self,courses):\n",
    "        self.courses=courses\n",
    "        print(self.courses)"
   ]
  },
  {
   "cell_type": "code",
   "execution_count": 30,
   "id": "31de0ccc-a5aa-4112-b3e1-dcc375d31ce7",
   "metadata": {},
   "outputs": [],
   "source": [
    "#10) Explain the concept of property decorators in Python and how they relate to encapsulation.\n",
    "\n"
   ]
  },
  {
   "cell_type": "code",
   "execution_count": 31,
   "id": "2a3f99bc-97cd-4b7d-92ce-a12ba44abcc7",
   "metadata": {},
   "outputs": [],
   "source": [
    "# A decorator feature in Python wraps in a function, appends several functionalities to existing code and then returns it. \n",
    "# Methods and functions are known to be callable as they can be called. \n",
    "# Therefore, a decorator is also a callable that returns callable.\n",
    "\n",
    "def test (func):\n",
    "    def inner_test():\n",
    "        print(\"this is the start\")\n",
    "        func()\n",
    "        print(\"this is the end\")\n",
    "    return inner_test   "
   ]
  },
  {
   "cell_type": "code",
   "execution_count": 35,
   "id": "f18d7ee4-9952-4899-86a3-1a7801b55e91",
   "metadata": {},
   "outputs": [],
   "source": [
    "@test                                  #decorating the function\n",
    "def test1():\n",
    "    print(\"this is my test1\")"
   ]
  },
  {
   "cell_type": "code",
   "execution_count": 40,
   "id": "56297e59-43d4-4f52-adaa-3497180b33d8",
   "metadata": {},
   "outputs": [],
   "source": [
    "#11) Create a Python class called `Employee` with private attributes for salary (`__salary`) and employee ID (`__employee_id`). Provide a method to calculate yearly bonuses.\n",
    "\n"
   ]
  },
  {
   "cell_type": "code",
   "execution_count": 41,
   "id": "4edde00c-0966-410a-8690-73a4d5843e34",
   "metadata": {},
   "outputs": [],
   "source": [
    "class employee:\n",
    "    \n",
    "    def __init__(self,ID, name,salary):\n",
    "        self.name=name\n",
    "        self.__id=ID                               #private attribute\n",
    "        self.__salary=salary                       #private attribute\n",
    "        \n",
    "    def bonus(self,yearly_extra_time,*args):\n",
    "        if yearly_extra_time>100:\n",
    "            bonus=30000\n",
    "            self.salary=self.salary+bonus\n",
    "        print(\" the employee has got a bonus\")\n",
    "        \n",
    "    def print_employee_details(self):\n",
    "        print(\"\\nname\",self.name)\n",
    "        print(\"\\nID\",self.id)\n",
    "        print(\"\\nsalary\",self.salary)\n",
    "            \n",
    "    "
   ]
  },
  {
   "cell_type": "code",
   "execution_count": 42,
   "id": "4a71ad26-2859-4ed2-969b-1d57e60b0dcb",
   "metadata": {},
   "outputs": [],
   "source": [
    "sunita=employee(12345, sunita, 40000)"
   ]
  },
  {
   "cell_type": "code",
   "execution_count": 43,
   "id": "d21f70b2-3eb7-4428-8b5e-568ee1402690",
   "metadata": {},
   "outputs": [
    {
     "name": "stdout",
     "output_type": "stream",
     "text": [
      " the employee has got a bonus\n"
     ]
    }
   ],
   "source": [
    "sunita.bonus(120)"
   ]
  },
  {
   "cell_type": "code",
   "execution_count": 44,
   "id": "9dcbcb26-3c11-422a-af21-359599cd0eb9",
   "metadata": {},
   "outputs": [
    {
     "name": "stdout",
     "output_type": "stream",
     "text": [
      "\n",
      "name <function test.<locals>.inner_test at 0x7f8722d0fa30>\n",
      "\n",
      "ID 12345\n",
      "\n",
      "salary 70000\n"
     ]
    }
   ],
   "source": [
    "sunita.print_employee_details()"
   ]
  },
  {
   "cell_type": "code",
   "execution_count": 45,
   "id": "3f98c5fb-e890-4b75-aee4-82f8995b7c08",
   "metadata": {},
   "outputs": [],
   "source": [
    "#12) Create a Python class called `Customer` with private attributes for customer details like name, address, and contact information. Implement encapsulation to ensure data integrity and security.\n",
    "\n"
   ]
  },
  {
   "cell_type": "code",
   "execution_count": 51,
   "id": "8d231271-081d-4ebc-bcfd-aa9505cbbd8b",
   "metadata": {},
   "outputs": [],
   "source": [
    "class customer:\n",
    "    \n",
    "    def __init__(self,name,address,contact,ID):\n",
    "        self.__name=name\n",
    "        self.__address=address                         # encapsulated data denoted by \"__\" means private variable\n",
    "        self.contact=contact\n",
    "        self.ID=ID\n",
    "        \n",
    "    def check_ID(self,password):\n",
    "        if password==\"rahul\":\n",
    "            return self.__name\n",
    "        else:\n",
    "            return \"incorrect password\"\n",
    "        \n",
    "    def display(self):\n",
    "        print(self.__name)\n",
    "        \n",
    "    "
   ]
  },
  {
   "cell_type": "code",
   "execution_count": 52,
   "id": "91708215-d1cb-4575-8735-e5251504a463",
   "metadata": {},
   "outputs": [],
   "source": [
    "sunita=customer(\"sshikha\",\"lucknow\",\"12345\",\"123\")"
   ]
  },
  {
   "cell_type": "code",
   "execution_count": 53,
   "id": "420667b0-6161-4c93-92ee-2c919d36a9c0",
   "metadata": {},
   "outputs": [
    {
     "data": {
      "text/plain": [
       "'incorrect password'"
      ]
     },
     "execution_count": 53,
     "metadata": {},
     "output_type": "execute_result"
    }
   ],
   "source": [
    "sunita.check_ID(\"simranjeet\")"
   ]
  },
  {
   "cell_type": "code",
   "execution_count": 54,
   "id": "997bd1be-a148-4802-84fa-49634a53e51d",
   "metadata": {},
   "outputs": [],
   "source": [
    "#13) Create a Python class for a library system that encapsulates book information, including titles, authors, and availability status.                                            \n",
    "    \n",
    "    "
   ]
  },
  {
   "cell_type": "code",
   "execution_count": 23,
   "id": "1185962d-56fd-4768-8552-304e322d3eb6",
   "metadata": {},
   "outputs": [],
   "source": [
    "class library:\n",
    "\n",
    "    def __init__(self,books= None):\n",
    "        if books is None:\n",
    "            self.books=[] \n",
    "        else:   \n",
    "            self.books=books\n",
    "      \n",
    "            \n",
    "    def add_book(self,book):\n",
    "        self.list=self.books.append(book)\n",
    "        \n",
    "                \n",
    "    def book_info(self,author,title,avail_status):\n",
    "        self.author=author\n",
    "        self.title=title\n",
    "        self.avail_status=avail_status\n",
    "        return self.books     \n",
    "    \n",
    "    def display(self): \n",
    "        print(\"this is my whole library with status:\",self.book_info)   \n",
    "        \n"
   ]
  },
  {
   "cell_type": "code",
   "execution_count": 24,
   "id": "95fa2a2f-dcd9-4d0e-aa2b-25f2ded44bac",
   "metadata": {},
   "outputs": [],
   "source": [
    "sunita=library()"
   ]
  },
  {
   "cell_type": "code",
   "execution_count": 25,
   "id": "724db523-9bb8-41fc-9214-2369dd0139bc",
   "metadata": {},
   "outputs": [],
   "source": [
    "book='introduction to polity','shankar ias','sriram ias'"
   ]
  },
  {
   "cell_type": "code",
   "execution_count": 26,
   "id": "7e3b9df4-f750-4ab9-a70c-841356603a5a",
   "metadata": {},
   "outputs": [],
   "source": [
    "sunita.add_book(book)"
   ]
  },
  {
   "cell_type": "code",
   "execution_count": 27,
   "id": "c7aa0948-36c4-496f-afe9-9c7fb419df5e",
   "metadata": {},
   "outputs": [],
   "source": [
    "sunita.book_info= '\\nbiology-A\\n'   '\\nmaths-A\\n'   '\\nselfhelp-A\\n'   '\\ngeography-A\\n' '\\nintroduction to human biology-NA\\n'   '\\nintermediate maths-NA\\n'   '\\nthe alchemist-A\\n'   '\\nGC Leong-A\\n' "
   ]
  },
  {
   "cell_type": "code",
   "execution_count": 28,
   "id": "8b9807e7-3477-4b31-ba98-3472ca758125",
   "metadata": {},
   "outputs": [
    {
     "name": "stdout",
     "output_type": "stream",
     "text": [
      "this is my whole library with status: \n",
      "biology-A\n",
      "\n",
      "maths-A\n",
      "\n",
      "selfhelp-A\n",
      "\n",
      "geography-A\n",
      "\n",
      "introduction to human biology-NA\n",
      "\n",
      "intermediate maths-NA\n",
      "\n",
      "the alchemist-A\n",
      "\n",
      "GC Leong-A\n",
      "\n"
     ]
    }
   ],
   "source": [
    "sunita.display()"
   ]
  },
  {
   "cell_type": "code",
   "execution_count": 29,
   "id": "dcc0487a-59c7-4528-be20-b40937459c36",
   "metadata": {},
   "outputs": [],
   "source": [
    "#14) Discuss the use of accessors and mutators in encapsulation. How do they help maintain control over attribute access?\n",
    "\n"
   ]
  },
  {
   "cell_type": "code",
   "execution_count": 30,
   "id": "bbb8e01a-36ef-45fe-8a81-bf441db9c517",
   "metadata": {},
   "outputs": [],
   "source": [
    "  #Accessor and Mutator methods\n",
    "#So, you all must be acquainted with the fact that the internal data of an object must be kept private. \n",
    "#But there should be some methods in the class interface that can permit the user of an object to access and alter the data (that is stored internally) in a calm manner.\n",
    "#Therefore, for that case we have two methods namely Accessors and Mutators that are helpful in accessing and altering respectively, internally stored data. \n",
    " \n",
    "\n",
    "# Accessor Method: This method is used to access the state of the object i.e, the data hidden in the object can be accessed from this method.\n",
    "#However, this method cannot change the state of the object, it can only access the data hidden.\n",
    "#We can name these methods with the word get. \n",
    " \n",
    "#Mutator Method: This method is used to mutate/modify the state of an object i.e, it alters the hidden value of the data variable.\n",
    "#It can set the value of a variable instantly to a new value. \n",
    "#This method is also called as update method. Moreover, we can name these methods with the word set. \n",
    "\n",
    "\n",
    "\n",
    "\n",
    "class Car:\n",
    "\n",
    "\t\n",
    "\tdef __init__(self, carname):\n",
    "\t\tself.__make = carname\n",
    "\n",
    "\t                                                    # Defining Mutator Method\n",
    "\tdef set_make(self, carname):\n",
    "\t\tself.__make = carname\n",
    "\n",
    "\t                                                    # Defining Accessor Method\n",
    "\tdef get_make(self):\n",
    "\t\treturn self.__make"
   ]
  },
  {
   "cell_type": "code",
   "execution_count": 31,
   "id": "89cd22a5-5932-489a-83eb-40f0a390853c",
   "metadata": {},
   "outputs": [],
   "source": [
    "myCar = Car('Ford');"
   ]
  },
  {
   "cell_type": "code",
   "execution_count": 32,
   "id": "b505a06d-ce47-43ba-9ce5-eb905e7ce17d",
   "metadata": {},
   "outputs": [
    {
     "name": "stdout",
     "output_type": "stream",
     "text": [
      "Ford\n"
     ]
    }
   ],
   "source": [
    "print (myCar.get_make())"
   ]
  },
  {
   "cell_type": "code",
   "execution_count": 33,
   "id": "015c4413-6577-4b35-9bc8-e5e8ff44805c",
   "metadata": {},
   "outputs": [],
   "source": [
    "myCar.set_make('Porche')"
   ]
  },
  {
   "cell_type": "code",
   "execution_count": 34,
   "id": "85117b93-5304-4a3c-a960-436226e5d406",
   "metadata": {},
   "outputs": [
    {
     "name": "stdout",
     "output_type": "stream",
     "text": [
      "Porche\n"
     ]
    }
   ],
   "source": [
    "print (myCar.get_make())"
   ]
  },
  {
   "cell_type": "code",
   "execution_count": 35,
   "id": "e954fc2c-1f06-42e4-b9a0-42bbc9c169b2",
   "metadata": {},
   "outputs": [],
   "source": [
    "                                                 #POLYMORPHISM\n",
    "    \n",
    "    "
   ]
  },
  {
   "cell_type": "code",
   "execution_count": 1,
   "id": "0834aa9b-3851-421a-8be8-8fb71b6f4b07",
   "metadata": {},
   "outputs": [],
   "source": [
    "#1) What is polymorphism in Python? Explain how it is related to object-oriented programming.\n",
    "\n"
   ]
  },
  {
   "cell_type": "code",
   "execution_count": 2,
   "id": "400ad14f-faf9-485a-9d43-a2ee375b5aa0",
   "metadata": {},
   "outputs": [],
   "source": [
    "# polymorphism means the same function name (but different signatures) being used for different types.\n",
    "#The key difference is the data types and number of arguments used in function.\n",
    "\n",
    "\n",
    "def test(a,b):\n",
    "    return a+b"
   ]
  },
  {
   "cell_type": "code",
   "execution_count": 3,
   "id": "e6c9e13b-ceb2-4484-a901-3e84ff25a723",
   "metadata": {},
   "outputs": [
    {
     "data": {
      "text/plain": [
       "7"
      ]
     },
     "execution_count": 3,
     "metadata": {},
     "output_type": "execute_result"
    }
   ],
   "source": [
    "test(3,4)"
   ]
  },
  {
   "cell_type": "code",
   "execution_count": 5,
   "id": "e77f6108-d86c-4bd1-9636-f508d0749d78",
   "metadata": {},
   "outputs": [
    {
     "data": {
      "text/plain": [
       "'sunitasimranjeet'"
      ]
     },
     "execution_count": 5,
     "metadata": {},
     "output_type": "execute_result"
    }
   ],
   "source": [
    "test(\"sunita\",\"simranjeet\")"
   ]
  },
  {
   "cell_type": "code",
   "execution_count": 6,
   "id": "8811f0f9-e971-43ec-b722-c7001c35e040",
   "metadata": {},
   "outputs": [],
   "source": [
    "#2) Describe the difference between compile-time polymorphism and runtime polymorphism in Python.\n",
    "\n"
   ]
  },
  {
   "cell_type": "code",
   "execution_count": 7,
   "id": "7695d13f-47db-4c41-8c24-ba09a2ed9706",
   "metadata": {},
   "outputs": [],
   "source": [
    "#Polymorphism is classified into two types: compile-time polymorphism and runtime polymorphism. \n",
    "#Compile-time polymorphism is illustrated by method overloading,\n",
    "#whereas runtime polymorphism is illustrated by method overriding."
   ]
  },
  {
   "cell_type": "code",
   "execution_count": 12,
   "id": "f6a77674-fa97-486c-a04a-7d87ca348dc3",
   "metadata": {},
   "outputs": [],
   "source": [
    "# runtime polymorphism\n",
    "\n",
    "\n",
    "class pwskills:\n",
    "    \n",
    "    def student(self):\n",
    "        pass\n",
    "    \n",
    "class data_science(pwskills):\n",
    "    def student(self):\n",
    "        print(\"details about data science\")\n",
    "        \n",
    "class big_data(pwskills):\n",
    "    def student(self):\n",
    "        print(\"details about big data\")\n",
    "\n"
   ]
  },
  {
   "cell_type": "code",
   "execution_count": 13,
   "id": "f54ea2e5-fd09-4267-ae2a-321a96510566",
   "metadata": {},
   "outputs": [],
   "source": [
    "sunita=data_science()"
   ]
  },
  {
   "cell_type": "code",
   "execution_count": 15,
   "id": "665be5af-cd25-446c-8547-0d708199a028",
   "metadata": {},
   "outputs": [
    {
     "name": "stdout",
     "output_type": "stream",
     "text": [
      "details about data science\n"
     ]
    }
   ],
   "source": [
    "sunita.student()"
   ]
  },
  {
   "cell_type": "code",
   "execution_count": 16,
   "id": "8103a921-ec45-4ad5-8e07-74b33717ad1d",
   "metadata": {},
   "outputs": [],
   "source": [
    "#compile time polymorphism"
   ]
  },
  {
   "cell_type": "code",
   "execution_count": 22,
   "id": "b3dfa398-fb9b-41c6-b325-c6035c66a695",
   "metadata": {},
   "outputs": [],
   "source": [
    "class data:\n",
    "\n",
    "        def __init__(self,number_of_class,number_of_student):\n",
    "            self.number_of_class= number_of_class\n",
    "            self.number_of_student= number_of_student\n",
    "            \n",
    "        def __add__(self,other):                                    # method overloading\n",
    "            return data(self.number_of_class+ other.number_of_class,self.number_of_student+other.number_of_student)"
   ]
  },
  {
   "cell_type": "code",
   "execution_count": 27,
   "id": "7a84d042-4e40-485a-8128-d331f82c2460",
   "metadata": {},
   "outputs": [],
   "source": [
    "c1=data(3,5)"
   ]
  },
  {
   "cell_type": "code",
   "execution_count": 28,
   "id": "97dfc211-65a4-4219-961b-090b49bd1aad",
   "metadata": {},
   "outputs": [],
   "source": [
    "c2=data(4,19)"
   ]
  },
  {
   "cell_type": "code",
   "execution_count": 29,
   "id": "9a945714-2ca4-41ce-a823-87c3ae398d01",
   "metadata": {},
   "outputs": [],
   "source": [
    "result=c1+c2"
   ]
  },
  {
   "cell_type": "code",
   "execution_count": 30,
   "id": "1e3e5101-b929-483e-85a7-e3f094ab15a4",
   "metadata": {},
   "outputs": [
    {
     "data": {
      "text/plain": [
       "<__main__.data at 0x7f47e44855d0>"
      ]
     },
     "execution_count": 30,
     "metadata": {},
     "output_type": "execute_result"
    }
   ],
   "source": [
    "result"
   ]
  },
  {
   "cell_type": "code",
   "execution_count": 31,
   "id": "90612e05-6709-4357-8862-5afc690b51de",
   "metadata": {},
   "outputs": [],
   "source": [
    "#3) Create a Python class hierarchy for shapes (e.g., circle, square, triangle) and demonstrate polymorphism through a common method, such as `calculate_area()`.\n",
    "\n"
   ]
  },
  {
   "cell_type": "code",
   "execution_count": 32,
   "id": "a3594579-8a91-4d3a-a434-d19d6ccc2ba7",
   "metadata": {},
   "outputs": [],
   "source": [
    "import math\n",
    "\n",
    "class Shape:\n",
    "    def calculate_area(self):\n",
    "        pass\n",
    "\n",
    "class Circle(Shape):\n",
    "    def __init__(self, radius):\n",
    "        self.radius = radius\n",
    "\n",
    "    def calculate_area(self):\n",
    "        return math.pi * self.radius**2\n",
    "\n",
    "class Rectangle(Shape):\n",
    "    def __init__(self, length, width):\n",
    "        self.length = length\n",
    "        self.width = width\n",
    "\n",
    "    def calculate_area(self):\n",
    "        return self.length * self.width"
   ]
  },
  {
   "cell_type": "code",
   "execution_count": 33,
   "id": "8b63fc97-511c-4308-a5cc-ebff3cf3a093",
   "metadata": {},
   "outputs": [],
   "source": [
    "r = 7"
   ]
  },
  {
   "cell_type": "code",
   "execution_count": 34,
   "id": "c9e7a985-10b3-4cca-87ae-7aaf7f2486e3",
   "metadata": {},
   "outputs": [],
   "source": [
    "circle = Circle(r)"
   ]
  },
  {
   "cell_type": "code",
   "execution_count": 35,
   "id": "c3cf432e-0c1e-4a8c-889a-b51612a50997",
   "metadata": {},
   "outputs": [],
   "source": [
    "circle_area = circle.calculate_area()"
   ]
  },
  {
   "cell_type": "code",
   "execution_count": 36,
   "id": "73c4e847-5f09-4eac-9818-a01743df3298",
   "metadata": {},
   "outputs": [
    {
     "name": "stdout",
     "output_type": "stream",
     "text": [
      "Radius of the circle: 7\n",
      "Circle Area: 153.93804002589985\n"
     ]
    }
   ],
   "source": [
    "print(\"Radius of the circle:\",r)\n",
    "print(\"Circle Area:\", circle_area)"
   ]
  },
  {
   "cell_type": "code",
   "execution_count": 37,
   "id": "5b319744-7d25-4c53-b2d1-6792c2a76f63",
   "metadata": {},
   "outputs": [],
   "source": [
    "#4) Explain the concept of method overriding in polymorphism. Provide an example\n",
    "\n"
   ]
  },
  {
   "cell_type": "code",
   "execution_count": 38,
   "id": "35aa6787-a3f8-4c28-95b7-518b75be139e",
   "metadata": {},
   "outputs": [],
   "source": [
    "class pwskills:\n",
    "    \n",
    "    def student(self):\n",
    "        pass\n",
    "    \n",
    "class data_science(pwskills):\n",
    "    def student(self):\n",
    "        print(\"details about data science\")\n",
    "        \n",
    "class big_data(pwskills):\n",
    "    def student(self):\n",
    "        print(\"details about big data\")\n"
   ]
  },
  {
   "cell_type": "code",
   "execution_count": 39,
   "id": "a294f04f-07fb-4c75-be3b-d5afceb32e7f",
   "metadata": {},
   "outputs": [],
   "source": [
    "sunita=data_science()"
   ]
  },
  {
   "cell_type": "code",
   "execution_count": 40,
   "id": "9ebdd43e-886a-499c-897c-1611b3709b9b",
   "metadata": {},
   "outputs": [
    {
     "name": "stdout",
     "output_type": "stream",
     "text": [
      "details about data science\n"
     ]
    }
   ],
   "source": [
    "sunita.student()"
   ]
  },
  {
   "cell_type": "code",
   "execution_count": 41,
   "id": "5d9984fe-0fc1-42a8-9195-833ae37996ee",
   "metadata": {},
   "outputs": [],
   "source": [
    "#5) How is polymorphism different from method overloading in Python? Provide examples for both\n",
    "\n"
   ]
  },
  {
   "cell_type": "code",
   "execution_count": 42,
   "id": "be03bded-c295-4a9a-94a4-1a6bb85128af",
   "metadata": {},
   "outputs": [],
   "source": [
    "#method overloading\n",
    "\n",
    "class data:\n",
    "\n",
    "        def __init__(self,number_of_class,number_of_student):\n",
    "            self.number_of_class= number_of_class\n",
    "            self.number_of_student= number_of_student\n",
    "            \n",
    "        def __add__(self,other):                                    # method overloading\n",
    "            return data(self.number_of_class+ other.number_of_class,self.number_of_student+other.number_of_student)"
   ]
  },
  {
   "cell_type": "code",
   "execution_count": 43,
   "id": "1b5294db-05e7-41d1-b821-1c0e3fc9f1cc",
   "metadata": {},
   "outputs": [],
   "source": [
    "c1=data(3,5)"
   ]
  },
  {
   "cell_type": "code",
   "execution_count": 44,
   "id": "1113c116-e85a-488a-ad80-7031d5e09954",
   "metadata": {},
   "outputs": [],
   "source": [
    "c2=data(2,5)"
   ]
  },
  {
   "cell_type": "code",
   "execution_count": 45,
   "id": "5f619b7b-5c21-4f8e-9f9e-ad3592da5191",
   "metadata": {},
   "outputs": [],
   "source": [
    "result=c1+c2"
   ]
  },
  {
   "cell_type": "code",
   "execution_count": 46,
   "id": "00536b3d-e347-4d76-95e1-eaf15c8dc1f0",
   "metadata": {},
   "outputs": [
    {
     "data": {
      "text/plain": [
       "<__main__.data at 0x7f47e561f610>"
      ]
     },
     "execution_count": 46,
     "metadata": {},
     "output_type": "execute_result"
    }
   ],
   "source": [
    "result"
   ]
  },
  {
   "cell_type": "code",
   "execution_count": 47,
   "id": "e5e8d7b3-973c-463c-8c83-5b42bd503cd3",
   "metadata": {},
   "outputs": [],
   "source": [
    "#polymorphism\n",
    "\n",
    "def test(a,b):\n",
    "    return a+b"
   ]
  },
  {
   "cell_type": "code",
   "execution_count": 48,
   "id": "57eea70e-90c5-48ec-982e-a89f65829e81",
   "metadata": {},
   "outputs": [
    {
     "data": {
      "text/plain": [
       "7"
      ]
     },
     "execution_count": 48,
     "metadata": {},
     "output_type": "execute_result"
    }
   ],
   "source": [
    "test(3,4)"
   ]
  },
  {
   "cell_type": "code",
   "execution_count": 49,
   "id": "8a53a68a-60ab-4f54-b5db-28032a42ccd8",
   "metadata": {},
   "outputs": [
    {
     "data": {
      "text/plain": [
       "'shikhasunita'"
      ]
     },
     "execution_count": 49,
     "metadata": {},
     "output_type": "execute_result"
    }
   ],
   "source": [
    "test(\"shikha\",\"sunita\")"
   ]
  },
  {
   "cell_type": "code",
   "execution_count": 50,
   "id": "da7958da-ae40-4a51-a4cd-6e411f369047",
   "metadata": {},
   "outputs": [],
   "source": [
    "#6) . Create a Python class called `Animal` with a method `speak()`. Then, create child classes like `Dog`, `Cat`, and `Bird`, each with their own `speak()` method. Demonstrate polymorphism by calling the `speak()` method on objects of different subclasses.\n",
    "\n"
   ]
  },
  {
   "cell_type": "code",
   "execution_count": 51,
   "id": "ff22dab7-05be-4f71-a5f7-9f3c34a50c1d",
   "metadata": {},
   "outputs": [],
   "source": [
    "class animal:\n",
    "    \n",
    "    def speak(self):\n",
    "        print(\"this animal makes difeerent noises\")\n",
    "        \n",
    "class dog(animal):\n",
    "    def speak(self):\n",
    "        print(\"this animal moohs\")\n",
    "        \n",
    "class cat(animal):\n",
    "    def speak(self):\n",
    "        print(\"this animal meows\")\n",
    "    "
   ]
  },
  {
   "cell_type": "code",
   "execution_count": 52,
   "id": "54044868-dbf1-44ac-8190-9893b6071509",
   "metadata": {},
   "outputs": [],
   "source": [
    "a=animal()"
   ]
  },
  {
   "cell_type": "code",
   "execution_count": 53,
   "id": "c96d3a2b-25ab-4962-8f76-b2db54aa02fd",
   "metadata": {},
   "outputs": [
    {
     "name": "stdout",
     "output_type": "stream",
     "text": [
      "this animal makes difeerent noises\n"
     ]
    }
   ],
   "source": [
    "a.speak()"
   ]
  },
  {
   "cell_type": "code",
   "execution_count": 54,
   "id": "16f85f85-b497-4ebe-b579-821aca15f5a9",
   "metadata": {},
   "outputs": [],
   "source": [
    "b=dog()"
   ]
  },
  {
   "cell_type": "code",
   "execution_count": 55,
   "id": "c7dcd2d7-c6e7-42f2-a595-05555cfa53f2",
   "metadata": {},
   "outputs": [
    {
     "name": "stdout",
     "output_type": "stream",
     "text": [
      "this animal moohs\n"
     ]
    }
   ],
   "source": [
    "b.speak()"
   ]
  },
  {
   "cell_type": "code",
   "execution_count": 56,
   "id": "401fe5f8-4e7c-46cc-9614-d503f673595e",
   "metadata": {},
   "outputs": [],
   "source": [
    "#7) Explain the significance of the `isinstance()` and `issubclass()` functions in Python polymorphism.\n",
    "\n"
   ]
  },
  {
   "cell_type": "code",
   "execution_count": 58,
   "id": "26f49641-b96c-48a5-9b6f-3b5b33190431",
   "metadata": {},
   "outputs": [],
   "source": [
    "# The isinstance() function returns True if the specified object is of the specified type, \n",
    "# otherwise False . \n",
    "#If the type parameter is a tuple, this function will return True if the object is one of the types in the tuple\n",
    "\n",
    "class myObj:\n",
    "     name = \"John\"\n"
   ]
  },
  {
   "cell_type": "code",
   "execution_count": 59,
   "id": "66484a73-eabb-4024-a938-b05e9a394256",
   "metadata": {},
   "outputs": [],
   "source": [
    "y = myObj()"
   ]
  },
  {
   "cell_type": "code",
   "execution_count": 60,
   "id": "eaeb8f7b-a50e-4f1d-889f-844fed4b6a46",
   "metadata": {},
   "outputs": [],
   "source": [
    "x=isinstance(y,myObj)"
   ]
  },
  {
   "cell_type": "code",
   "execution_count": 61,
   "id": "35a127cb-d72a-4b38-b05c-eef689327fb9",
   "metadata": {},
   "outputs": [
    {
     "name": "stdout",
     "output_type": "stream",
     "text": [
      "True\n"
     ]
    }
   ],
   "source": [
    "print(x)"
   ]
  },
  {
   "cell_type": "code",
   "execution_count": 62,
   "id": "043fdd25-bc0f-4bb7-8e3a-253e7ffde9b3",
   "metadata": {},
   "outputs": [],
   "source": [
    "#8) Create a Python class called `Shape` with a polymorphic method `area()` that calculates the area of different shapes (e.g., circle, rectangle, triangle).\n",
    "\n"
   ]
  },
  {
   "cell_type": "code",
   "execution_count": 63,
   "id": "76105607-b655-460a-9768-6cdff1f971a5",
   "metadata": {},
   "outputs": [],
   "source": [
    "import math\n",
    "\n",
    "class Shape:\n",
    "    def calculate_area(self):\n",
    "        pass\n",
    "\n",
    "class Circle(Shape):\n",
    "    def __init__(self, radius):\n",
    "        self.radius = radius\n",
    "\n",
    "    def calculate_area(self):\n",
    "        return math.pi * self.radius**2\n",
    "\n",
    "class Rectangle(Shape):\n",
    "    def __init__(self, length, width):\n",
    "        self.length = length\n",
    "        self.width = width\n",
    "\n",
    "    def calculate_area(self):\n",
    "        return self.length * self.width"
   ]
  },
  {
   "cell_type": "code",
   "execution_count": 64,
   "id": "11afc285-c2bd-4341-a190-ed181a8bab08",
   "metadata": {},
   "outputs": [],
   "source": [
    "r=7"
   ]
  },
  {
   "cell_type": "code",
   "execution_count": 65,
   "id": "8b10bf31-838f-45dd-a51e-b9296e2be778",
   "metadata": {},
   "outputs": [],
   "source": [
    "circle=Circle(r)"
   ]
  },
  {
   "cell_type": "code",
   "execution_count": 66,
   "id": "e412e47a-1d21-4761-a447-2b3137f429d2",
   "metadata": {},
   "outputs": [],
   "source": [
    "circle_area = circle.calculate_area()"
   ]
  },
  {
   "cell_type": "code",
   "execution_count": 67,
   "id": "7a4e5e39-a977-41ac-b7f6-6412c73411e0",
   "metadata": {},
   "outputs": [
    {
     "name": "stdout",
     "output_type": "stream",
     "text": [
      "Radius of the circle: 7\n",
      "Circle Area: 153.93804002589985\n"
     ]
    }
   ],
   "source": [
    "print(\"Radius of the circle:\",r)\n",
    "print(\"Circle Area:\", circle_area)"
   ]
  },
  {
   "cell_type": "code",
   "execution_count": 68,
   "id": "515fbdae-4f10-4447-bd33-dfeeabfb863c",
   "metadata": {},
   "outputs": [],
   "source": [
    "#9) Explain the use of the `super()` function in Python polymorphism. How does it help call methods of parent classes?\n",
    "\n"
   ]
  },
  {
   "cell_type": "code",
   "execution_count": 69,
   "id": "201c866d-617a-41f5-b075-e5196bbda9d6",
   "metadata": {},
   "outputs": [],
   "source": [
    "# the super() is used to give access to the methods and properties of the parent class or sibling class\n",
    "# it returns an object that represents a parent class\n",
    "#it is used with __init__ keyword to initialize the keywords of parent class"
   ]
  },
  {
   "cell_type": "code",
   "execution_count": 70,
   "id": "6bc89001-c4ff-48cb-ad80-23040ce25a3b",
   "metadata": {},
   "outputs": [],
   "source": [
    "class pwskills:\n",
    "        \n",
    "        def __init__(self,mentor):\n",
    "            self.mentor=mentor\n",
    "            \n",
    "        def mentor_name(self):\n",
    "            print(self.mentor)\n",
    "            \n",
    "class data(pwskills):\n",
    "        def __init__(self,mentor,mentor_mail):\n",
    "            super().__init__(mentor)             # super() accesses the attributes of parent class pwskills\n",
    "            self.mentor=mentor\n",
    "            self.mentor_mail=mentor_mail\n",
    "            \n",
    "        def show_info(self):\n",
    "            print(self.mentor,self.mentor_mail)"
   ]
  },
  {
   "cell_type": "code",
   "execution_count": 75,
   "id": "3b0e4502-1d28-4027-9aae-ea175497933f",
   "metadata": {},
   "outputs": [],
   "source": [
    "sunita=data(\"sunita\",\"sunita@123\")"
   ]
  },
  {
   "cell_type": "code",
   "execution_count": 76,
   "id": "ee6d8e55-8ddf-44fc-89ef-eb2484ea2357",
   "metadata": {},
   "outputs": [
    {
     "name": "stdout",
     "output_type": "stream",
     "text": [
      "sunita sunita@123\n"
     ]
    }
   ],
   "source": [
    "sunita.show_info()"
   ]
  },
  {
   "cell_type": "code",
   "execution_count": 77,
   "id": "034b06e3-4338-45d4-b257-79933bec56cd",
   "metadata": {},
   "outputs": [],
   "source": [
    "                                         #ABSTRACTION\n",
    "    \n",
    "    "
   ]
  },
  {
   "cell_type": "code",
   "execution_count": 78,
   "id": "2704a4bf-ba30-4148-8869-936db6ce8127",
   "metadata": {},
   "outputs": [],
   "source": [
    "#1). What is abstraction in Python, and how does it relate to object-oriented programming?\n",
    "\n"
   ]
  },
  {
   "cell_type": "code",
   "execution_count": 82,
   "id": "3b5690d0-cb5d-4ecc-81e6-53d869f9aaaf",
   "metadata": {},
   "outputs": [],
   "source": [
    "# Abstraction in python is defined as a process of handling complexity by hiding unnecessary information from the user.\n",
    "# This is one of the core concepts of object-oriented programming (OOP) languages. \n",
    "#That enables the user to implement even more complex logic on top of the provided abstraction without understanding or\n",
    "#even thinking about all the hidden background/back-end complexity.\n",
    "\n",
    "\n",
    "from abc import ABC, abstractmethod\n",
    "    \n",
    "class pwskills:\n",
    "        def student_details(self):\n",
    "            return(\"this will give student details\")"
   ]
  },
  {
   "cell_type": "code",
   "execution_count": 83,
   "id": "cf915092-2c47-472d-9eb0-4f5e5f3cffa6",
   "metadata": {},
   "outputs": [],
   "source": [
    "sunita=pwskills()"
   ]
  },
  {
   "cell_type": "code",
   "execution_count": 84,
   "id": "f87322da-0b0f-4a12-a195-72b6e617354c",
   "metadata": {},
   "outputs": [
    {
     "data": {
      "text/plain": [
       "'this will give student details'"
      ]
     },
     "execution_count": 84,
     "metadata": {},
     "output_type": "execute_result"
    }
   ],
   "source": [
    "sunita.student_details()"
   ]
  },
  {
   "cell_type": "code",
   "execution_count": 85,
   "id": "47690dda-80e1-4bac-b8d6-c2fc8ef08525",
   "metadata": {},
   "outputs": [],
   "source": [
    "#2) Create a Python class called `Shape` with an abstract method `calculate_area()`. Then, create child classes (e.g., `Circle`, `Rectangle`) that implement the `calculate_area()` method. Provide an example of using these classes.\n",
    "\n"
   ]
  },
  {
   "cell_type": "code",
   "execution_count": 86,
   "id": "51733f9e-70cb-46c9-bc70-1f68d5c43f5b",
   "metadata": {},
   "outputs": [],
   "source": [
    "import math\n",
    "\n",
    "class Shape:\n",
    "    def calculate_area(self):\n",
    "        pass\n",
    "\n",
    "class Circle(Shape):\n",
    "    def __init__(self, radius):\n",
    "        self.radius = radius\n",
    "\n",
    "    def calculate_area(self):\n",
    "        return math.pi * self.radius**2\n",
    "\n",
    "class Rectangle(Shape):\n",
    "    def __init__(self, length, width):\n",
    "        self.length = length\n",
    "        self.width = width\n",
    "\n",
    "    def calculate_area(self):\n",
    "        return self.length * self.width"
   ]
  },
  {
   "cell_type": "code",
   "execution_count": 87,
   "id": "ead4fe35-a3bf-4d62-8807-7c91966f00bf",
   "metadata": {},
   "outputs": [],
   "source": [
    "r=7\n"
   ]
  },
  {
   "cell_type": "code",
   "execution_count": 88,
   "id": "65a2a0bd-3385-4fc8-ab0d-6d1863fd54c1",
   "metadata": {},
   "outputs": [],
   "source": [
    "circle=Circle(r)"
   ]
  },
  {
   "cell_type": "code",
   "execution_count": 89,
   "id": "ba748b90-0fd1-48da-bc9a-f73c29798ec7",
   "metadata": {},
   "outputs": [],
   "source": [
    "circle_area = circle.calculate_area()"
   ]
  },
  {
   "cell_type": "code",
   "execution_count": 90,
   "id": "3a8b12ab-232e-46ed-9591-c823b7008537",
   "metadata": {},
   "outputs": [
    {
     "name": "stdout",
     "output_type": "stream",
     "text": [
      "Radius of the circle: 7\n",
      "Circle Area: 153.93804002589985\n"
     ]
    }
   ],
   "source": [
    "print(\"Radius of the circle:\",r)\n",
    "print(\"Circle Area:\", circle_area)"
   ]
  },
  {
   "cell_type": "code",
   "execution_count": 91,
   "id": "a8f0ecf0-502b-4fd4-b8af-83976c2c9949",
   "metadata": {},
   "outputs": [],
   "source": [
    "#4) . Explain the concept of abstract classes in Python and how they are defined using the `abc` module. Provide an example.\n",
    "\n"
   ]
  },
  {
   "cell_type": "code",
   "execution_count": 92,
   "id": "118438e2-89ef-4e53-a689-802245ef83f7",
   "metadata": {},
   "outputs": [],
   "source": [
    "# An abstract class can be considered a blueprint for other classes.\n",
    "# It allows you to create a set of methods that must be created within any child classes built from the abstract class.\n",
    "# A class that contains one or more abstract methods is called an abstract class. \n",
    "# Python comes with a module that provides the base for defining Abstract Base classes(ABC) and that module name is ABC.\n",
    "# ABC works by decorating methods of the base class as an abstract and then registering concrete classes as implementations of the abstract base. \n",
    "#A method becomes abstract when decorated with the keyword @abstractmethod.\n",
    "\n",
    "\n",
    "\n",
    "\n",
    "from abc import ABC, abstractmethod\n",
    "\n",
    "\n",
    "class Polygon(ABC):\n",
    "\n",
    "\t@abstractmethod\n",
    "\tdef noofsides(self):\n",
    "\t\tpass\n",
    "\n",
    "\n",
    "class Triangle(Polygon):\n",
    "\n",
    "\t                                     # overriding abstract method\n",
    "\tdef noofsides(self):\n",
    "\t\tprint(\"I have 3 sides\")\n",
    "\n",
    "\n",
    "class Pentagon(Polygon):\n",
    "\n",
    "\t                                     # overriding abstract method\n",
    "\tdef noofsides(self):\n",
    "\t\tprint(\"I have 5 sides\")\n",
    "\n",
    "\n",
    "class Hexagon(Polygon):\n",
    "\n",
    "\t                                     # overriding abstract method\n",
    "\tdef noofsides(self):\n",
    "\t\tprint(\"I have 6 sides\")\n",
    "\n",
    "\n",
    "class Quadrilateral(Polygon):\n",
    "\n",
    "\t                                      # overriding abstract method\n",
    "\tdef noofsides(self):\n",
    "\t\tprint(\"I have 4 sides\")"
   ]
  },
  {
   "cell_type": "code",
   "execution_count": 93,
   "id": "a2e53b53-8df2-4d47-85b8-9b0aea166a99",
   "metadata": {},
   "outputs": [],
   "source": [
    "R = Triangle()"
   ]
  },
  {
   "cell_type": "code",
   "execution_count": 94,
   "id": "df89d60f-d194-42cf-a8d8-cbce7e9f47e3",
   "metadata": {},
   "outputs": [
    {
     "name": "stdout",
     "output_type": "stream",
     "text": [
      "I have 3 sides\n"
     ]
    }
   ],
   "source": [
    "R.noofsides()"
   ]
  },
  {
   "cell_type": "code",
   "execution_count": 95,
   "id": "fa5f7524-fbfb-4258-bbfb-783b2ddb00ad",
   "metadata": {},
   "outputs": [],
   "source": [
    "K = Quadrilateral()"
   ]
  },
  {
   "cell_type": "code",
   "execution_count": 96,
   "id": "41b55475-093d-4069-984f-fa11697dc3aa",
   "metadata": {},
   "outputs": [
    {
     "name": "stdout",
     "output_type": "stream",
     "text": [
      "I have 4 sides\n"
     ]
    }
   ],
   "source": [
    "K.noofsides()"
   ]
  },
  {
   "cell_type": "code",
   "execution_count": 97,
   "id": "4cd7be8a-d746-4552-bf3e-9f3316f7cf2b",
   "metadata": {},
   "outputs": [],
   "source": [
    "R = Pentagon()"
   ]
  },
  {
   "cell_type": "code",
   "execution_count": 98,
   "id": "f587714d-86c2-423e-867d-c0baea3e1e09",
   "metadata": {},
   "outputs": [
    {
     "name": "stdout",
     "output_type": "stream",
     "text": [
      "I have 5 sides\n"
     ]
    }
   ],
   "source": [
    "R.noofsides()"
   ]
  },
  {
   "cell_type": "code",
   "execution_count": 99,
   "id": "b59f03d4-de2b-46f6-b15a-666a57dd3127",
   "metadata": {},
   "outputs": [],
   "source": [
    "K = Hexagon()"
   ]
  },
  {
   "cell_type": "code",
   "execution_count": 100,
   "id": "9b31b89b-9706-4554-88da-ce0e1ae4459d",
   "metadata": {},
   "outputs": [
    {
     "name": "stdout",
     "output_type": "stream",
     "text": [
      "I have 6 sides\n"
     ]
    }
   ],
   "source": [
    "K.noofsides()"
   ]
  },
  {
   "cell_type": "code",
   "execution_count": 101,
   "id": "eeb74a45-40ee-4613-ab3b-33e2b672ceea",
   "metadata": {},
   "outputs": [],
   "source": [
    "#5) Create a Python class for a bank account and demonstrate abstraction by hiding the account balance and providing methods to deposit and withdraw funds.\n",
    "\n"
   ]
  },
  {
   "cell_type": "code",
   "execution_count": 106,
   "id": "27f22a71-3384-4820-a51c-e7de668dac98",
   "metadata": {},
   "outputs": [],
   "source": [
    "from abc import ABC, abstractmethod\n",
    "\n",
    "class bankaccount:\n",
    "    \n",
    "    def openaccount(self,account_no,name,balance):\n",
    "        print(\"open an account by taking name,account_no and balance\")\n",
    "        return name\n",
    "    \n",
    "    @abstractmethod\n",
    "    def balance(self, balance):                                   # abstract balance class\n",
    "        print(\"thus is my account balance\")\n",
    "        \n",
    "    \n",
    "    def deposit(self,amount):\n",
    "        print(\"i am trying to deposit\",amount,\" in my account\")\n",
    "        return amount\n",
    "    \n",
    "    def withdraw(self,amt_with):\n",
    "        print(\"withdraw\",amt_with,\"amount\")\n",
    "        return (amt_with)\n",
    "      "
   ]
  },
  {
   "cell_type": "code",
   "execution_count": 107,
   "id": "9e9e4504-979b-4344-baa3-f21456731e54",
   "metadata": {},
   "outputs": [],
   "source": [
    "sunita=bankaccount()"
   ]
  },
  {
   "cell_type": "code",
   "execution_count": 108,
   "id": "62cb5986-2bc5-496b-8f0c-5efd274f1b8b",
   "metadata": {},
   "outputs": [
    {
     "name": "stdout",
     "output_type": "stream",
     "text": [
      "open an account by taking name,account_no and balance\n"
     ]
    },
    {
     "data": {
      "text/plain": [
       "<__main__.bankaccount at 0x7f47e454dfc0>"
      ]
     },
     "execution_count": 108,
     "metadata": {},
     "output_type": "execute_result"
    }
   ],
   "source": [
    "sunita.openaccount(123456789,sunita,1000)"
   ]
  },
  {
   "cell_type": "code",
   "execution_count": 110,
   "id": "344bf429-03fb-4be4-92d3-598ed1474fba",
   "metadata": {},
   "outputs": [
    {
     "name": "stdout",
     "output_type": "stream",
     "text": [
      "thus is my account balance\n"
     ]
    }
   ],
   "source": [
    "sunita.balance(50000)"
   ]
  },
  {
   "cell_type": "code",
   "execution_count": 112,
   "id": "5a3065c1-970f-4dc0-a44b-51dd7d051b24",
   "metadata": {},
   "outputs": [
    {
     "name": "stdout",
     "output_type": "stream",
     "text": [
      "i am trying to deposit 2000  in my account\n"
     ]
    },
    {
     "data": {
      "text/plain": [
       "2000"
      ]
     },
     "execution_count": 112,
     "metadata": {},
     "output_type": "execute_result"
    }
   ],
   "source": [
    "sunita.deposit(2000)"
   ]
  },
  {
   "cell_type": "code",
   "execution_count": 113,
   "id": "223b447c-e4d3-4ed5-9797-644c37dc2e96",
   "metadata": {},
   "outputs": [
    {
     "name": "stdout",
     "output_type": "stream",
     "text": [
      "withdraw 1000 amount\n"
     ]
    },
    {
     "data": {
      "text/plain": [
       "1000"
      ]
     },
     "execution_count": 113,
     "metadata": {},
     "output_type": "execute_result"
    }
   ],
   "source": [
    "sunita.withdraw(1000)"
   ]
  },
  {
   "cell_type": "code",
   "execution_count": 114,
   "id": "3c4583d0-3579-4a57-b869-c5dd0402cae8",
   "metadata": {},
   "outputs": [],
   "source": [
    "#7) Create a Python class for a library system, implementing abstraction by defining common methods (e.g., `add_book()`, `borrow_book()`) in an abstract base class.\n",
    "\n"
   ]
  },
  {
   "cell_type": "code",
   "execution_count": 115,
   "id": "9d12a9d6-c7f8-448e-ac80-e8baced6bc68",
   "metadata": {},
   "outputs": [],
   "source": [
    "from abc import ABC, abstractmethod\n",
    "\n",
    "class library:\n",
    "\n",
    "    @abstractmethod\n",
    "    def __init__(self,books= None):\n",
    "        if books is None:\n",
    "            self.books=[] \n",
    "        else:   \n",
    "            self.books=books\n",
    "      \n",
    "    @abstractmethod        \n",
    "    def add_book(self,book):\n",
    "        self.list=self.books.append(book)\n",
    "        \n",
    "                \n",
    "    def get_library(self):\n",
    "        return self.books     \n",
    "    \n",
    "    def display(self): \n",
    "        print(\"this is my whole library\",self.category,self.title)\n",
    "    \n",
    "        \n",
    "class catalog:\n",
    "    \n",
    "    def __init__(self,category, title):\n",
    "        self.category = category\n",
    "        self.title = title"
   ]
  },
  {
   "cell_type": "code",
   "execution_count": 116,
   "id": "ab226711-c19f-4236-904c-216e4e2ba1e0",
   "metadata": {},
   "outputs": [],
   "source": [
    "sunita=library()"
   ]
  },
  {
   "cell_type": "code",
   "execution_count": 117,
   "id": "ea56bbe4-efeb-484b-b967-b081d1553aff",
   "metadata": {},
   "outputs": [],
   "source": [
    "book='introduction to polity','shankar ias','sriram ias'"
   ]
  },
  {
   "cell_type": "code",
   "execution_count": 118,
   "id": "d438203f-fd54-40ad-a821-c49f924704fc",
   "metadata": {},
   "outputs": [],
   "source": [
    "sunita.add_book(book)"
   ]
  },
  {
   "cell_type": "code",
   "execution_count": 119,
   "id": "ce34c207-6b23-4f35-b5d6-e7616d03c30f",
   "metadata": {},
   "outputs": [],
   "source": [
    "sunita.category= '\\nbiology\\n'   '\\nmaths\\n'   '\\nselfhelp\\n'   '\\ngeography\\n'"
   ]
  },
  {
   "cell_type": "code",
   "execution_count": 120,
   "id": "025f0326-e723-4eb5-98f5-7f4a590035e0",
   "metadata": {},
   "outputs": [],
   "source": [
    "sunita.title='\\nintroduction to human biology\\n'   '\\nintermediate maths\\n'   '\\nthe alchemist\\n'   '\\nGC Leong\\n' "
   ]
  },
  {
   "cell_type": "code",
   "execution_count": 121,
   "id": "cd8691b9-6d64-45c0-9c8a-f51999e8e873",
   "metadata": {},
   "outputs": [
    {
     "name": "stdout",
     "output_type": "stream",
     "text": [
      "this is my whole library \n",
      "biology\n",
      "\n",
      "maths\n",
      "\n",
      "selfhelp\n",
      "\n",
      "geography\n",
      " \n",
      "introduction to human biology\n",
      "\n",
      "intermediate maths\n",
      "\n",
      "the alchemist\n",
      "\n",
      "GC Leong\n",
      "\n"
     ]
    }
   ],
   "source": [
    "sunita.display()"
   ]
  },
  {
   "cell_type": "code",
   "execution_count": 122,
   "id": "6147997b-44ce-4178-9efc-61fb232669ff",
   "metadata": {},
   "outputs": [],
   "source": [
    "                                             #COMPOSITION\n",
    "    \n",
    "    "
   ]
  },
  {
   "cell_type": "code",
   "execution_count": 123,
   "id": "2b559926-598f-4e3b-a513-37efc4abb283",
   "metadata": {},
   "outputs": [],
   "source": [
    "#1) Explain the concept of composition in Python and how it is used to build complex objects from simpler ones.\n",
    "\n"
   ]
  },
  {
   "cell_type": "code",
   "execution_count": 128,
   "id": "78ccf320-9954-494d-977c-3ed98d7ee0fc",
   "metadata": {},
   "outputs": [],
   "source": [
    "#  It enables creating complex types by combining objects of different classes.\n",
    "#It means that a class Composite can contain an object of another class Component.\n",
    "# This type of relationship is known as Has-A Relation.\n",
    "\n",
    "\n",
    "\n",
    "#class A :\n",
    "\n",
    "      # variables of class A\n",
    "      # methods of class A\n",
    "      \n",
    "    \n",
    "#class B : \n",
    "      # by using \"obj\" we can access member's of class A.\n",
    "      #obj = A()\n",
    "\n",
    "      # variables of class B\n",
    "      # methods of class B"
   ]
  },
  {
   "cell_type": "code",
   "execution_count": 129,
   "id": "8547e4b2-c6ef-4e17-8f90-4be3c833550b",
   "metadata": {},
   "outputs": [],
   "source": [
    "# 2) . Describe the difference between composition and inheritance in object-oriented programming.\n",
    "\n"
   ]
  },
  {
   "cell_type": "code",
   "execution_count": 130,
   "id": "a423876c-0618-4d68-a5dc-b7594fc07b19",
   "metadata": {},
   "outputs": [],
   "source": [
    "#Inheritance is a mechanism that allows us to inherit all the properties from another class.\n",
    "#The class from which the properties and functionalities are utilized is called the parent class (also called as Base Class). \n",
    "#The class which uses the properties from another class is called as Child Class (also known as Derived class). \n",
    "#Inheritance is also called an Is-A Relation. \n",
    "\n",
    "\n",
    "\n",
    "#  Composition enables creating complex types by combining objects of different classes.\n",
    "#It means that a class Composite can contain an object of another class Component.\n",
    "# This type of relationship is known as Has-A Relation.\n",
    "\n",
    "\n",
    "\n",
    "#class A :\n",
    "\n",
    "      # variables of class A\n",
    "      # methods of class A\n",
    "      \n",
    "    \n",
    "#class B : \n",
    "      # by using \"obj\" we can access member's of class A.\n",
    "      #obj = A()\n",
    "\n",
    "      # variables of class B\n",
    "      # methods of class B"
   ]
  },
  {
   "cell_type": "code",
   "execution_count": 131,
   "id": "0a6d72bf-4a45-4c10-b6fd-e9df4104245a",
   "metadata": {},
   "outputs": [],
   "source": [
    "#3) Create a Python class called `Author` with attributes for name and birthdate. Then, create a `Book` class that contains an instance of `Author` as a composition. Provide an example of creating a `Book` object.\n",
    "\n"
   ]
  },
  {
   "cell_type": "code",
   "execution_count": 133,
   "id": "cd160265-4f06-4799-9c73-e527539a392f",
   "metadata": {},
   "outputs": [],
   "source": [
    "class author:\n",
    "    \n",
    "    def __init__(self,name,birthplace):\n",
    "        self.name=name\n",
    "        self.birthplace=birthplace\n",
    "        return \"author details\"\n",
    "    \n",
    "    def book(self):\n",
    "        self.book= author()                #composition\n",
    "        "
   ]
  },
  {
   "cell_type": "code",
   "execution_count": null,
   "id": "86f7554c-0f19-4ca8-a5fd-104b12501073",
   "metadata": {},
   "outputs": [],
   "source": []
  }
 ],
 "metadata": {
  "kernelspec": {
   "display_name": "Python 3 (ipykernel)",
   "language": "python",
   "name": "python3"
  },
  "language_info": {
   "codemirror_mode": {
    "name": "ipython",
    "version": 3
   },
   "file_extension": ".py",
   "mimetype": "text/x-python",
   "name": "python",
   "nbconvert_exporter": "python",
   "pygments_lexer": "ipython3",
   "version": "3.10.6"
  }
 },
 "nbformat": 4,
 "nbformat_minor": 5
}
